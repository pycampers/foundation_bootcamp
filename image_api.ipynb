{
 "cells": [
  {
   "cell_type": "code",
   "execution_count": 9,
   "metadata": {},
   "outputs": [
    {
     "name": "stdout",
     "output_type": "stream",
     "text": [
      "https://images.dog.ceo/breeds/puggle/IMG_153357.jpg\n"
     ]
    }
   ],
   "source": [
    "import requests\n",
    "import json\n",
    "\n",
    "def get_random_dog_image():\n",
    "    \"\"\" This function goes to the dog.ceo api and fetch a random dog image\n",
    "    The return value is a json dict and it returns a single image url as a string.\n",
    "    \"\"\"\n",
    "    random_dog_api = \"https://dog.ceo/api/breeds/image/random\"\n",
    "    response = requests.get(random_dog_api)\n",
    "    image_dict =  json.loads(response.content)\n",
    "    \n",
    "    return image_dict[\"message\"]\n",
    "\n",
    "dog_image_url = get_random_dog_image()\n",
    "print(dog_image_url)"
   ]
  },
  {
   "cell_type": "code",
   "execution_count": 12,
   "metadata": {},
   "outputs": [],
   "source": [
    "# V1 image downloader\n",
    "image_response = requests.get(dog_image_url)\n",
    "image_data = image_response.content\n",
    "\n",
    "image_file = open(\"test_image.jpg\", \"wb\")\n",
    "image_file.write(image_data)\n",
    "image_file.close()\n",
    "print(\"Image downloaded.\")"
   ]
  },
  {
   "cell_type": "code",
   "execution_count": 19,
   "metadata": {},
   "outputs": [
    {
     "name": "stdout",
     "output_type": "stream",
     "text": [
      "IMG_153357.jpg downloaded.\n"
     ]
    }
   ],
   "source": [
    "# V2 image downloader\n",
    "\n",
    "def image_downloader(dog_image_url):\n",
    "    \"\"\"This function takes an image url and download the image\n",
    "    to a file with the filename from the url.\"\"\"\n",
    "    image_name = dog_image_url.split(\"/\")[-1]\n",
    "\n",
    "    image_response = requests.get(dog_image_url)\n",
    "    image_data = image_response.content\n",
    "\n",
    "    image_file = open(image_name, \"wb\")\n",
    "    image_file.write(image_data)\n",
    "    image_file.close()\n",
    "    \n",
    "    print(image_name, \"downloaded.\")\n",
    "    return 0\n",
    "\n",
    "result = image_downloader(dog_image_url)"
   ]
  },
  {
   "cell_type": "code",
   "execution_count": 23,
   "metadata": {},
   "outputs": [
    {
     "name": "stdout",
     "output_type": "stream",
     "text": [
      "n02097658_3947.jpg downloaded.\n"
     ]
    }
   ],
   "source": [
    "def get_random_dog_image():\n",
    "    \"\"\" This function goes to the dog.ceo api and fetch a random dog image\n",
    "    The return value is a json dict and it returns a single image url as a string.\n",
    "    \"\"\"\n",
    "    random_dog_api = \"https://dog.ceo/api/breeds/image/random\"\n",
    "    response = requests.get(random_dog_api)\n",
    "    image_dict =  json.loads(response.content)\n",
    "    \n",
    "    return image_dict[\"message\"]\n",
    "\n",
    "def image_downloader(dog_image_url):\n",
    "    \"\"\"This function takes an image url and download the image\n",
    "    to a file with the filename from the url.\"\"\"\n",
    "    image_name = dog_image_url.split(\"/\")[-1]\n",
    "\n",
    "    image_response = requests.get(dog_image_url)\n",
    "    image_data = image_response.content\n",
    "\n",
    "    image_file = open(image_name, \"wb\")\n",
    "    image_file.write(image_data)\n",
    "    image_file.close()\n",
    "    \n",
    "    print(image_name, \"downloaded.\")\n",
    "    return image_name\n",
    "\n",
    "dog_image_url = get_random_dog_image()\n",
    "image_name = image_downloader(dog_image_url)\n"
   ]
  },
  {
   "cell_type": "code",
   "execution_count": 36,
   "metadata": {},
   "outputs": [
    {
     "name": "stdout",
     "output_type": "stream",
     "text": [
      "0 affenpinscher\n",
      "1 african\n",
      "2 airedale\n",
      "3 akita\n",
      "4 appenzeller\n",
      "5 basenji\n",
      "6 beagle\n",
      "7 bluetick\n",
      "8 borzoi\n",
      "9 bouvier\n",
      "10 boxer\n",
      "11 brabancon\n",
      "12 briard\n",
      "13 bulldog\n",
      "14 bullterrier\n",
      "15 cairn\n",
      "16 cattledog\n",
      "17 chihuahua\n",
      "18 chow\n",
      "19 clumber\n",
      "20 cockapoo\n",
      "21 collie\n",
      "22 coonhound\n",
      "23 corgi\n",
      "24 cotondetulear\n",
      "25 dachshund\n",
      "26 dalmatian\n",
      "27 dane\n",
      "28 deerhound\n",
      "29 dhole\n",
      "30 dingo\n",
      "31 doberman\n",
      "32 elkhound\n",
      "33 entlebucher\n",
      "34 eskimo\n",
      "35 frise\n",
      "36 germanshepherd\n",
      "37 greyhound\n",
      "38 groenendael\n",
      "39 hound\n",
      "40 husky\n",
      "41 keeshond\n",
      "42 kelpie\n",
      "43 komondor\n",
      "44 kuvasz\n",
      "45 labrador\n",
      "46 leonberg\n",
      "47 lhasa\n",
      "48 malamute\n",
      "49 malinois\n",
      "50 maltese\n",
      "51 mastiff\n",
      "52 mexicanhairless\n",
      "53 mix\n",
      "54 mountain\n",
      "55 newfoundland\n",
      "56 otterhound\n",
      "57 papillon\n",
      "58 pekinese\n",
      "59 pembroke\n",
      "60 pinscher\n",
      "61 pointer\n",
      "62 pomeranian\n",
      "63 poodle\n",
      "64 pug\n",
      "65 puggle\n",
      "66 pyrenees\n",
      "67 redbone\n",
      "68 retriever\n",
      "69 ridgeback\n",
      "70 rottweiler\n",
      "71 saluki\n",
      "72 samoyed\n",
      "73 schipperke\n",
      "74 schnauzer\n",
      "75 setter\n",
      "76 sheepdog\n",
      "77 shiba\n",
      "78 shihtzu\n",
      "79 spaniel\n",
      "80 springer\n",
      "81 stbernard\n",
      "82 terrier\n",
      "83 vizsla\n",
      "84 weimaraner\n",
      "85 whippet\n",
      "86 wolfhound\n",
      "Please Enter The Breed Num: 3\n",
      "https://images.dog.ceo/breeds/akita/Akita_Inu_dog.jpg\n"
     ]
    }
   ],
   "source": [
    "def get_breed_list():\n",
    "    breed_list_url = \"https://dog.ceo/api/breeds/list/all\"\n",
    "    response = requests.get(breed_list_url)\n",
    "    response_dict = json.loads(response.content)\n",
    "    breed_list = list(response_dict[\"message\"].keys())\n",
    "\n",
    "    return breed_list\n",
    "\n",
    "def get_breed_image_url(dog_breed):\n",
    "    dog_breed_image_url = f\"https://dog.ceo/api/breed/{dog_breed}/images/random\"\n",
    "    response_data = requests.get(dog_breed_image_url).content\n",
    "    image_dict = json.loads(response_data)\n",
    "\n",
    "    return image_dict[\"message\"]\n",
    "\n",
    "breed_list = get_breed_list()\n",
    "\n",
    "for i in range(len(breed_list)):\n",
    "    print(i, breed_list[i])\n",
    "\n",
    "breed_num = int(input(\"Please Enter The Breed Num: \"))\n",
    "\n",
    "dog_breed = breed_list[breed_num]\n",
    "image_url = get_breed_image_url(dog_breed)\n",
    "print(image_url)"
   ]
  },
  {
   "cell_type": "code",
   "execution_count": null,
   "metadata": {},
   "outputs": [],
   "source": []
  }
 ],
 "metadata": {
  "kernelspec": {
   "display_name": "Python 3",
   "language": "python",
   "name": "python3"
  },
  "language_info": {
   "codemirror_mode": {
    "name": "ipython",
    "version": 3
   },
   "file_extension": ".py",
   "mimetype": "text/x-python",
   "name": "python",
   "nbconvert_exporter": "python",
   "pygments_lexer": "ipython3",
   "version": "3.6.8"
  }
 },
 "nbformat": 4,
 "nbformat_minor": 2
}
