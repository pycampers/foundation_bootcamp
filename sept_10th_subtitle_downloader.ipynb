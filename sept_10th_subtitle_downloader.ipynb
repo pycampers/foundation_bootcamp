{
 "cells": [
  {
   "cell_type": "code",
   "execution_count": 4,
   "metadata": {},
   "outputs": [
    {
     "name": "stdout",
     "output_type": "stream",
     "text": [
      "fight%20club\n"
     ]
    }
   ],
   "source": [
    "from urllib.parse import quote\n",
    "\n",
    "query_url = 'https://yts-subs.com/search/fight%20club'\n",
    "\n",
    "query = 'fight club'\n",
    "\n",
    "print(quote(query))\n",
    "\n",
    "# Quote is to encode text into a valid url format"
   ]
  },
  {
   "cell_type": "code",
   "execution_count": 2,
   "metadata": {},
   "outputs": [
    {
     "name": "stdout",
     "output_type": "stream",
     "text": [
      "<Response [200]>\n"
     ]
    }
   ],
   "source": [
    "from requests_html import HTMLSession\n",
    "\n",
    "\n",
    "website_url = \"https://yts-subs.com/\"\n",
    "\n",
    "def url_to_response(url):\n",
    "    session = HTMLSession()\n",
    "    response = session.get(url)\n",
    "    return response\n",
    "\n",
    "response = url_to_response(website_url)\n",
    "print(response)"
   ]
  },
  {
   "cell_type": "code",
   "execution_count": 27,
   "metadata": {},
   "outputs": [
    {
     "name": "stdout",
     "output_type": "stream",
     "text": [
      "https://yts-subs.com/search/fight%20club\n",
      "<Response [200]>\n"
     ]
    }
   ],
   "source": [
    "from urllib.parse import quote\n",
    "\n",
    "website_url = \"https://yts-subs.com/\"\n",
    "query = \"fight club\"\n",
    "query_encoded = quote(query)\n",
    "website_search_url = website_url + \"search/\" + query_encoded\n",
    "\n",
    "print(website_search_url)\n",
    "\n",
    "response = url_to_response(website_search_url)\n",
    "print(response)"
   ]
  },
  {
   "cell_type": "code",
   "execution_count": 30,
   "metadata": {},
   "outputs": [
    {
     "name": "stdout",
     "output_type": "stream",
     "text": [
      "[<Element 'li' class=('media', 'media-movie-clickable')>, <Element 'li' class=('media', 'media-movie-clickable')>]\n"
     ]
    }
   ],
   "source": [
    "search_results = response.html.find('.media-movie-clickable')\n",
    "\n",
    "if len(search_results) > 0:\n",
    "    print(search_results)\n",
    "else:\n",
    "    print(\"No results found.\")"
   ]
  },
  {
   "cell_type": "code",
   "execution_count": 69,
   "metadata": {},
   "outputs": [
    {
     "name": "stdout",
     "output_type": "stream",
     "text": [
      "[{'title': 'Fight Club', 'year': 1999, 'poster': 'https://www.yifysubtitles.com/images/movies-small/movie-1603.jpg', 'movie_page': 'https://yts-subs.com/movie-imdb/tt0137523'}, {'title': 'Zombie Fight Club', 'year': 2014, 'poster': 'https://www.yifysubtitles.com/images/movies-small/movie-4753.jpg', 'movie_page': 'https://yts-subs.com/movie-imdb/tt3560742'}]\n"
     ]
    }
   ],
   "source": [
    "single_search_result = search_results[0]\n",
    "\n",
    "def search_result_to_movie_info(single_search_result):\n",
    "    poster = single_search_result.find('.media-object', first=True).attrs[\"src\"]\n",
    "    title = single_search_result.find(\".media-heading\", first=True).text\n",
    "\n",
    "    year_raw = single_search_result.find(\".movinfo-section\")[0].text\n",
    "    year = int(year_raw.split()[0])\n",
    "    movie_page_raw = single_search_result.find(\".media-body\", first=True).find(\"a\", first=True)\n",
    "    movie_page = movie_page_raw.absolute_links.pop()\n",
    "\n",
    "    movie_info = {\"title\":title,\n",
    "                 \"year\": year,\n",
    "                 \"poster\": poster,\n",
    "                 \"movie_page\": movie_page}\n",
    "\n",
    "    return movie_info\n",
    "\n",
    "movie_info_list = list(map(search_result_to_movie_info, search_results))\n",
    "\n",
    "print(movie_info_list)"
   ]
  },
  {
   "cell_type": "code",
   "execution_count": 72,
   "metadata": {},
   "outputs": [
    {
     "name": "stdout",
     "output_type": "stream",
     "text": [
      "1 : Fight Club - 1999\n",
      "2 : Zombie Fight Club - 2014\n",
      "Enter the movie number: 1\n"
     ]
    }
   ],
   "source": [
    "def select_movie_number(movie_info_list):\n",
    "    for i in range(len(movie_info_list)):\n",
    "        single_movie_info = movie_info_list[i]\n",
    "        print(f'{i+1} : {single_movie_info[\"title\"]} - {single_movie_info[\"year\"]}')\n",
    "\n",
    "    selected_movie = int(input(\"Enter the movie number: \"))\n",
    "    return movie_info_list[selected_movie - 1]\n",
    "              \n",
    "selected_movie = select_movie_number(movie_info_list)"
   ]
  },
  {
   "cell_type": "code",
   "execution_count": 74,
   "metadata": {},
   "outputs": [
    {
     "name": "stdout",
     "output_type": "stream",
     "text": [
      "<Response [200]>\n"
     ]
    }
   ],
   "source": [
    "response = url_to_response(selected_movie[\"movie_page\"])\n",
    "print(response)"
   ]
  },
  {
   "cell_type": "code",
   "execution_count": 92,
   "metadata": {},
   "outputs": [
    {
     "name": "stdout",
     "output_type": "stream",
     "text": [
      "[{'language': 'Arabic', 'download_page': 'https://yts-subs.com/subtitles/fight-club-arabic-yify-119474', 'rating': 0}, {'language': 'Arabic', 'download_page': 'https://yts-subs.com/subtitles/fight-club-arabic-yify-131544', 'rating': 0}, {'language': 'Arabic', 'download_page': 'https://yts-subs.com/subtitles/fight-club-arabic-yify-2120', 'rating': 0}, {'language': 'Bengali', 'download_page': 'https://yts-subs.com/subtitles/fight-club-bengali-yify-93844', 'rating': 0}, {'language': 'Bengali', 'download_page': 'https://yts-subs.com/subtitles/fight-club-bengali-yify-110523', 'rating': 0}, {'language': 'Brazilian portuguese', 'download_page': 'https://yts-subs.com/subtitles/fight-club-brazilian-portuguese-yify-9920', 'rating': 2}, {'language': 'Brazilian portuguese', 'download_page': 'https://yts-subs.com/subtitles/fight-club-brazilian-portuguese-yify-99244', 'rating': 0}, {'language': 'Bulgarian', 'download_page': 'https://yts-subs.com/subtitles/fight-club-bulgarian-yify-6319', 'rating': 0}, {'language': 'Chinese', 'download_page': 'https://yts-subs.com/subtitles/fight-club-chinese-yify-63005', 'rating': 2}, {'language': 'Chinese', 'download_page': 'https://yts-subs.com/subtitles/fight-club-chinese-yify-52348', 'rating': 0}, {'language': 'Chinese', 'download_page': 'https://yts-subs.com/subtitles/fight-club-chinese-yify-19456', 'rating': -1}, {'language': 'Croatian', 'download_page': 'https://yts-subs.com/subtitles/fight-club-croatian-yify-31336', 'rating': 1}, {'language': 'Croatian', 'download_page': 'https://yts-subs.com/subtitles/fight-club-croatian-yify-103503', 'rating': 0}, {'language': 'Czech', 'download_page': 'https://yts-subs.com/subtitles/fight-club-czech-yify-45937', 'rating': 0}, {'language': 'Danish', 'download_page': 'https://yts-subs.com/subtitles/fight-club-danish-yify-16766', 'rating': 0}, {'language': 'Dutch', 'download_page': 'https://yts-subs.com/subtitles/fight-club-dutch-yify-10838', 'rating': 1}, {'language': 'Dutch', 'download_page': 'https://yts-subs.com/subtitles/fight-club-dutch-yify-31842', 'rating': 0}, {'language': 'English', 'download_page': 'https://yts-subs.com/subtitles/fight-club-english-yify-16425', 'rating': 5}, {'language': 'English', 'download_page': 'https://yts-subs.com/subtitles/fight-club-english-yify-2122', 'rating': 1}, {'language': 'English', 'download_page': 'https://yts-subs.com/subtitles/fight-club-english-yify-106386', 'rating': 1}, {'language': 'English', 'download_page': 'https://yts-subs.com/subtitles/fight-club-english-yify-151586', 'rating': 0}, {'language': 'English', 'download_page': 'https://yts-subs.com/subtitles/fight-club-english-yify-128212', 'rating': 0}, {'language': 'English', 'download_page': 'https://yts-subs.com/subtitles/fight-club-english-yify-102551', 'rating': 0}, {'language': 'English', 'download_page': 'https://yts-subs.com/subtitles/fight-club-english-yify-98568', 'rating': 0}, {'language': 'English', 'download_page': 'https://yts-subs.com/subtitles/fight-club-english-yify-145569', 'rating': 0}, {'language': 'English', 'download_page': 'https://yts-subs.com/subtitles/fight-club-english-yify-111713', 'rating': 0}, {'language': 'English', 'download_page': 'https://yts-subs.com/subtitles/fight-club-english-yify-110404', 'rating': 0}, {'language': 'English', 'download_page': 'https://yts-subs.com/subtitles/fight-club-english-yify-93843', 'rating': 0}, {'language': 'English', 'download_page': 'https://yts-subs.com/subtitles/fight-club-english-yify-98339', 'rating': 0}, {'language': 'English', 'download_page': 'https://yts-subs.com/subtitles/fight-club-english-yify-140366', 'rating': 0}, {'language': 'English', 'download_page': 'https://yts-subs.com/subtitles/fight-club-english-yify-2121', 'rating': 0}, {'language': 'English', 'download_page': 'https://yts-subs.com/subtitles/fight-club-english-yify-126998', 'rating': 0}, {'language': 'English', 'download_page': 'https://yts-subs.com/subtitles/fight-club-english-yify-110403', 'rating': 0}, {'language': 'English', 'download_page': 'https://yts-subs.com/subtitles/fight-club-english-yify-90370', 'rating': 0}, {'language': 'English', 'download_page': 'https://yts-subs.com/subtitles/fight-club-english-yify-138493', 'rating': 0}, {'language': 'English', 'download_page': 'https://yts-subs.com/subtitles/fight-club-english-yify-147665', 'rating': 0}, {'language': 'English', 'download_page': 'https://yts-subs.com/subtitles/fight-club-english-yify-97365', 'rating': 0}, {'language': 'English', 'download_page': 'https://yts-subs.com/subtitles/fight-club-english-yify-120101', 'rating': 0}, {'language': 'English', 'download_page': 'https://yts-subs.com/subtitles/fight-club-english-yify-119437', 'rating': 0}, {'language': 'English', 'download_page': 'https://yts-subs.com/subtitles/fight-club-english-yify-140828', 'rating': 0}, {'language': 'English', 'download_page': 'https://yts-subs.com/subtitles/fight-club-english-yify-102714', 'rating': 0}, {'language': 'English', 'download_page': 'https://yts-subs.com/subtitles/fight-club-english-yify-110394', 'rating': 0}, {'language': 'English', 'download_page': 'https://yts-subs.com/subtitles/fight-club-english-yify-115322', 'rating': 0}, {'language': 'Farsi/persian', 'download_page': 'https://yts-subs.com/subtitles/fight-club-farsipersian-yify-66274', 'rating': 0}, {'language': 'Finnish', 'download_page': 'https://yts-subs.com/subtitles/fight-club-finnish-yify-42741', 'rating': 0}, {'language': 'French', 'download_page': 'https://yts-subs.com/subtitles/fight-club-french-yify-14846', 'rating': 1}, {'language': 'Greek', 'download_page': 'https://yts-subs.com/subtitles/fight-club-greek-yify-24873', 'rating': 3}, {'language': 'Greek', 'download_page': 'https://yts-subs.com/subtitles/fight-club-greek-yify-106722', 'rating': 0}, {'language': 'Hebrew', 'download_page': 'https://yts-subs.com/subtitles/fight-club-hebrew-yify-14569', 'rating': 4}, {'language': 'Indonesian', 'download_page': 'https://yts-subs.com/subtitles/fight-club-indonesian-yify-36343', 'rating': 0}, {'language': 'Italian', 'download_page': 'https://yts-subs.com/subtitles/fight-club-italian-yify-12576', 'rating': 0}, {'language': 'Italian', 'download_page': 'https://yts-subs.com/subtitles/fight-club-italian-yify-139103', 'rating': 0}, {'language': 'Korean', 'download_page': 'https://yts-subs.com/subtitles/fight-club-korean-yify-49927', 'rating': 0}, {'language': 'Norwegian', 'download_page': 'https://yts-subs.com/subtitles/fight-club-norwegian-yify-69218', 'rating': 0}, {'language': 'Norwegian', 'download_page': 'https://yts-subs.com/subtitles/fight-club-norwegian-yify-19772', 'rating': 0}, {'language': 'Polish', 'download_page': 'https://yts-subs.com/subtitles/fight-club-polish-yify-26608', 'rating': 1}, {'language': 'Portuguese', 'download_page': 'https://yts-subs.com/subtitles/fight-club-portuguese-yify-20790', 'rating': 2}, {'language': 'Portuguese', 'download_page': 'https://yts-subs.com/subtitles/fight-club-portuguese-yify-11130', 'rating': 0}, {'language': 'Romanian', 'download_page': 'https://yts-subs.com/subtitles/fight-club-romanian-yify-36691', 'rating': 1}, {'language': 'Serbian', 'download_page': 'https://yts-subs.com/subtitles/fight-club-serbian-yify-12933', 'rating': 5}, {'language': 'Spanish', 'download_page': 'https://yts-subs.com/subtitles/fight-club-spanish-yify-4751', 'rating': 10}, {'language': 'Spanish', 'download_page': 'https://yts-subs.com/subtitles/fight-club-spanish-yify-131576', 'rating': 0}, {'language': 'Spanish', 'download_page': 'https://yts-subs.com/subtitles/fight-club-spanish-yify-137081', 'rating': 0}, {'language': 'Spanish', 'download_page': 'https://yts-subs.com/subtitles/fight-club-spanish-yify-94393', 'rating': -1}, {'language': 'Swedish', 'download_page': 'https://yts-subs.com/subtitles/fight-club-swedish-yify-51513', 'rating': 0}, {'language': 'Turkish', 'download_page': 'https://yts-subs.com/subtitles/fight-club-turkish-yify-9978', 'rating': 2}, {'language': 'Turkish', 'download_page': 'https://yts-subs.com/subtitles/fight-club-turkish-yify-96040', 'rating': 0}, {'language': 'Vietnamese', 'download_page': 'https://yts-subs.com/subtitles/fight-club-vietnamese-yify-33233', 'rating': 0}]\n"
     ]
    }
   ],
   "source": [
    "subtitle_list = response.html.find('.high-rating')\n",
    "\n",
    "def subtitle_html_to_dict(single_subtitle):\n",
    "    subtitle_language = single_subtitle.find(\".sub-lang\", first=True).text\n",
    "\n",
    "    download_cell = single_subtitle.find('.download-cell', first=True)\n",
    "    download_page_link = download_cell.find(\"a\", first=True).absolute_links.pop()\n",
    "\n",
    "    subtitle_rating = int(single_subtitle.find(\".rating-cell\", first=True).text)\n",
    "\n",
    "    subtitle_dict = {\"language\": subtitle_language,\n",
    "                    \"download_page\": download_page_link,\n",
    "                    \"rating\": subtitle_rating}\n",
    "\n",
    "    return subtitle_dict\n",
    "\n",
    "\n",
    "subtitle_info_list = list(map(subtitle_html_to_dict, subtitle_list))\n",
    "\n",
    "print(subtitle_info_list)"
   ]
  },
  {
   "cell_type": "code",
   "execution_count": 117,
   "metadata": {},
   "outputs": [],
   "source": [
    "\n",
    "def filter_subtitles(subtitle_info_list, filter_language=\"English\"):\n",
    "    results = []\n",
    "    for single_subtitle in subtitle_info_list:\n",
    "        if single_subtitle['language'] == filter_language:\n",
    "            results.append(single_subtitle)\n",
    "\n",
    "    if len(results) == 0:\n",
    "        selected_subtitle = None\n",
    "    else:\n",
    "        selected_subtitle = results[0]\n",
    "\n",
    "    return selected_subtitle\n",
    "\n",
    "final_subtitle = filter_subtitles(subtitle_info_list)\n",
    "#filtered_subtitle = filter_subtitles(subtitle_info_list, filter_language=\"Wakanda\")"
   ]
  },
  {
   "cell_type": "code",
   "execution_count": 119,
   "metadata": {},
   "outputs": [],
   "source": [
    "\n",
    "def download_page_to_zip_url(final_subtitle):\n",
    "    response = url_to_response(final_subtitle[\"download_page\"])\n",
    "    download_link = response.html.find('.download-subtitle', first=True).attrs[\"href\"]\n",
    "    return download_link\n",
    "\n",
    "zip_url = download_page_to_zip_url(final_subtitle)"
   ]
  },
  {
   "cell_type": "code",
   "execution_count": 125,
   "metadata": {},
   "outputs": [],
   "source": [
    "import requests\n",
    "\n",
    "def download_zip_file(zip_url):\n",
    "    zip_file_data = requests.get(zip_url).content\n",
    "    filename = zip_url.split(\"/\")[-1]\n",
    "\n",
    "    with open(filename, \"wb\") as zip_file:\n",
    "        zip_file.write(zip_file_data)\n",
    "    \n",
    "    return 0\n",
    "\n",
    "download_zip_file(zip_url)"
   ]
  },
  {
   "cell_type": "code",
   "execution_count": 124,
   "metadata": {},
   "outputs": [
    {
     "name": "stdout",
     "output_type": "stream",
     "text": [
      "fight-club-english-yify-16425.zip\n"
     ]
    }
   ],
   "source": []
  },
  {
   "cell_type": "code",
   "execution_count": null,
   "metadata": {},
   "outputs": [],
   "source": []
  }
 ],
 "metadata": {
  "kernelspec": {
   "display_name": "Python 3",
   "language": "python",
   "name": "python3"
  },
  "language_info": {
   "codemirror_mode": {
    "name": "ipython",
    "version": 3
   },
   "file_extension": ".py",
   "mimetype": "text/x-python",
   "name": "python",
   "nbconvert_exporter": "python",
   "pygments_lexer": "ipython3",
   "version": "3.6.8"
  }
 },
 "nbformat": 4,
 "nbformat_minor": 2
}
