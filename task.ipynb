{
 "cells": [
  {
   "cell_type": "markdown",
   "metadata": {},
   "source": [
    "# Make a weather visualizer\n",
    "\n",
    "### Website and resources\n",
    "\n",
    "http://metaweather.com/\n",
    "\n",
    "\n",
    "Use this api endpoint to find the woeid for Bangalore <br>\n",
    "https://www.metaweather.com/api/location/search/?query=london\n",
    "<br><br>\n",
    "Use this api endpoint to find weather data for next week. <br>\n",
    "https://www.metaweather.com/api/location/44418/\n",
    "<br><br>\n",
    "\n",
    "Once you have the data "
   ]
  },
  {
   "cell_type": "code",
   "execution_count": null,
   "metadata": {},
   "outputs": [],
   "source": []
  }
 ],
 "metadata": {
  "kernelspec": {
   "display_name": "Python 3",
   "language": "python",
   "name": "python3"
  },
  "language_info": {
   "codemirror_mode": {
    "name": "ipython",
    "version": 3
   },
   "file_extension": ".py",
   "mimetype": "text/x-python",
   "name": "python",
   "nbconvert_exporter": "python",
   "pygments_lexer": "ipython3",
   "version": "3.6.8"
  }
 },
 "nbformat": 4,
 "nbformat_minor": 2
}
