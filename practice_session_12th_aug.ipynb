{
 "cells": [
  {
   "cell_type": "code",
   "execution_count": 7,
   "metadata": {},
   "outputs": [
    {
     "name": "stdout",
     "output_type": "stream",
     "text": [
      "Enter a catagory:automobile\n",
      "Enter the product:car\n",
      "Enter the brand:maruti\n",
      "Category: automobile, Product: car, Brand: maruti\n",
      "{'cat': 'automobile', 'product': 'car', 'brand': 'maruti'}\n"
     ]
    }
   ],
   "source": [
    "def take_and_store_input():\n",
    "    category = input(\"Enter a catagory:\")\n",
    "    product = input(\"Enter the product:\")\n",
    "    brand = input(\"Enter the brand:\")\n",
    "\n",
    "    print(f\"Category: {category}, Product: {product}, Brand: {brand}\")\n",
    "\n",
    "    # a data row is a dict which contains category, product, brand keys and values\n",
    "    # {\"cat\": \"auto\", \"product\": \"car\", \"brand\": \"maruti\"}\n",
    "    data_row = {}\n",
    "\n",
    "    data_row[\"cat\"] = category\n",
    "    data_row[\"product\"] = product\n",
    "    data_row[\"brand\"] = brand\n",
    "\n",
    "    return data_row\n",
    "    \n",
    "result = take_and_store_input()\n",
    "\n",
    "print(result)"
   ]
  },
  {
   "cell_type": "code",
   "execution_count": null,
   "metadata": {},
   "outputs": [],
   "source": [
    "def take_and_store_input():\n",
    "    # a data row is a dict which contains category, product, brand keys and values\n",
    "    # {\"cat\": \"auto\", \"product\": \"car\", \"brand\": \"maruti\"}\n",
    "    data_row = {}\n",
    "    \n",
    "    data_row[\"category\"] = input(\"Enter a catagory:\")\n",
    "    data_row[\"product\"] = input(\"Enter the product:\")\n",
    "    data_row[\"brand\"] = input(\"Enter the brand:\")\n",
    "\n",
    "    return data_row\n",
    "    \n",
    "result = take_and_store_input()\n",
    "\n",
    "print(result)"
   ]
  },
  {
   "cell_type": "code",
   "execution_count": null,
   "metadata": {},
   "outputs": [
    {
     "name": "stdout",
     "output_type": "stream",
     "text": [
      "Help on function take_and_store_input in module __main__:\n",
      "\n",
      "take_and_store_input(data_points)\n",
      "    This function takes data_points which is a list as function argument.\n",
      "    we ask the user to enter each data point and store the answer in a dict.\n",
      "    return the dict.\n",
      "\n",
      "None\n"
     ]
    }
   ],
   "source": [
    "def take_and_store_input(data_points):\n",
    "    \"\"\"\n",
    "    This function takes data_points which is a list as function argument.\n",
    "    we ask the user to enter each data point and store the answer in a dict.\n",
    "    return the dict.\n",
    "    \"\"\"\n",
    "    data_row = {}\n",
    "    \n",
    "    for data_point in data_points:\n",
    "        input_data = input(f\"Enter {data_point}: \")\n",
    "        data_row[data_point] = input_data\n",
    "\n",
    "    return data_row\n",
    "\n",
    "\n",
    "\n",
    "data_points = [\"category\",\n",
    "              \"product\",\n",
    "              \"brand\"]\n",
    "\n",
    "result = take_and_store_input(data_points)\n",
    "print(result)\n"
   ]
  },
  {
   "cell_type": "code",
   "execution_count": 13,
   "metadata": {},
   "outputs": [
    {
     "name": "stdout",
     "output_type": "stream",
     "text": [
      "Enter category: automobile\n",
      "automobile\n",
      "Enter product: car\n",
      "car\n",
      "Enter brand: maruti\n",
      "maruti\n",
      "Enter country: indi\n",
      "indi\n",
      "{'category': 'automobile', 'product': 'car', 'brand': 'maruti', 'country': 'indi'}\n"
     ]
    }
   ],
   "source": [
    "data_points = [\"category\",\n",
    "              \"product\",\n",
    "              \"brand\",\n",
    "              \"country\"]\n",
    "data_row = {}\n",
    "for data_point in data_points:\n",
    "    input_data = input(f\"Enter {data_point}: \")\n",
    "    data_row[data_point] = input_data\n",
    "    \n",
    "print(data_row)"
   ]
  },
  {
   "cell_type": "code",
   "execution_count": 12,
   "metadata": {},
   "outputs": [
    {
     "name": "stdout",
     "output_type": "stream",
     "text": [
      "What you did yesterday?: make website\n",
      "make website\n",
      "What are you going to do today?: add the login feature\n",
      "add the login feature\n",
      "Are you facing any probelms?: no\n",
      "no\n"
     ]
    }
   ],
   "source": [
    "question_list = [\"What you did yesterday?\",\n",
    "              \"What are you going to do today?\",\n",
    "              \"Are you facing any probelms?\"]\n",
    "\n",
    "for question in question_list:\n",
    "    input_data = input(f\"{question}: \")\n",
    "    print(input_data)"
   ]
  },
  {
   "cell_type": "code",
   "execution_count": null,
   "metadata": {},
   "outputs": [],
   "source": []
  }
 ],
 "metadata": {
  "kernelspec": {
   "display_name": "Python 3",
   "language": "python",
   "name": "python3"
  },
  "language_info": {
   "codemirror_mode": {
    "name": "ipython",
    "version": 3
   },
   "file_extension": ".py",
   "mimetype": "text/x-python",
   "name": "python",
   "nbconvert_exporter": "python",
   "pygments_lexer": "ipython3",
   "version": "3.6.8"
  }
 },
 "nbformat": 4,
 "nbformat_minor": 2
}
