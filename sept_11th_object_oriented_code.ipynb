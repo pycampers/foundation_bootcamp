{
 "cells": [
  {
   "cell_type": "code",
   "execution_count": 2,
   "metadata": {},
   "outputs": [
    {
     "name": "stdout",
     "output_type": "stream",
     "text": [
      "woof!\n"
     ]
    }
   ],
   "source": [
    "# If we take the analogy of cars\n",
    "# The class is the blueprint of the car and object is the physical car\n",
    "# As you can't drive the blueprint of a car, you need to create the \n",
    "# physical car according to the blueprint.\n",
    "# but the blueprint does have all the details of the car.\n",
    "\n",
    "\n",
    "# Dog is a class that we defining here\n",
    "class Dog:\n",
    "    \n",
    "    # once a function is part of a class we call it a method of that class\n",
    "    # every function inside class must take self as the first argument.\n",
    "    def bark(self):\n",
    "        print(\"woof!\")\n",
    "        \n",
    "# test_dog is an object of the class Dog\n",
    "test_dog = Dog()\n",
    "\n",
    "# we are calling the method bark\n",
    "test_dog.bark()"
   ]
  },
  {
   "cell_type": "code",
   "execution_count": 17,
   "metadata": {},
   "outputs": [
    {
     "name": "stdout",
     "output_type": "stream",
     "text": [
      "rocky\n",
      "woof!\n",
      "rocky Come!\n"
     ]
    }
   ],
   "source": [
    "class Dog:\n",
    "    # init function only runs once when you make an object from a class.\n",
    "    def __init__(self, name):\n",
    "        self.name = name\n",
    "\n",
    "    def bark(self):\n",
    "        print('woof!')\n",
    "        \n",
    "    def command_to_come(self):\n",
    "        print(f'{self.name} Come!')\n",
    "        \n",
    "dog_obj_1 = Dog('rocky')\n",
    "print(dog_obj_1.name)\n",
    "\n",
    "dog_obj_1.bark()\n",
    "\n",
    "dog_obj_1.command_to_come()\n"
   ]
  },
  {
   "cell_type": "code",
   "execution_count": 19,
   "metadata": {},
   "outputs": [
    {
     "name": "stdout",
     "output_type": "stream",
     "text": [
      "jack Come!\n",
      "rocky Come!\n"
     ]
    }
   ],
   "source": [
    "jack = Dog('jack')\n",
    "\n",
    "jack.command_to_come()\n",
    "dog_obj_1.command_to_come()"
   ]
  },
  {
   "cell_type": "code",
   "execution_count": 20,
   "metadata": {},
   "outputs": [],
   "source": [
    "class Dog:\n",
    "    pass"
   ]
  },
  {
   "cell_type": "code",
   "execution_count": 26,
   "metadata": {},
   "outputs": [
    {
     "name": "stdout",
     "output_type": "stream",
     "text": [
      "<class '__main__.Person'>\n",
      "Hello hasan, How are you doing today?\n",
      "8890571387\n"
     ]
    }
   ],
   "source": [
    "class Person:\n",
    "    def __init__(self, name, phone_no):\n",
    "        self.name = name\n",
    "        self.phone_no = phone_no\n",
    "        \n",
    "    def greet(self):\n",
    "        return f'Hello {self.name}, How are you doing today?'\n",
    "    \n",
    "    def update_phone_no(self, phone_no):\n",
    "        self.phone_no = phone_no\n",
    "        print(f'updated phone no to {self.phone_no}')\n",
    "    \n",
    "    \n",
    "hasan = Person('hasan', '8890571387')\n",
    "\n",
    "print(type(hasan))\n",
    "\n",
    "print(hasan.greet())\n",
    "\n",
    "print(hasan.phone_no)\n",
    "\n"
   ]
  },
  {
   "cell_type": "code",
   "execution_count": 28,
   "metadata": {},
   "outputs": [
    {
     "name": "stdout",
     "output_type": "stream",
     "text": [
      "1234567890\n",
      "updated phone no to 1234567890\n",
      "1234567890\n"
     ]
    }
   ],
   "source": [
    "print(hasan.phone_no)\n",
    "hasan.update_phone_no('1234567890')\n",
    "print(hasan.phone_no)"
   ]
  },
  {
   "cell_type": "code",
   "execution_count": 42,
   "metadata": {},
   "outputs": [
    {
     "name": "stdout",
     "output_type": "stream",
     "text": [
      "Hello Sri, How are you doing today?\n"
     ]
    }
   ],
   "source": [
    "class Person:\n",
    "    def __init__(self, name, phone_no):\n",
    "        self.name = name\n",
    "        self.phone_no = phone_no\n",
    "        \n",
    "    def greet(self):\n",
    "        return f'Hello {self.name}, How are you doing today?'\n",
    "    \n",
    "    def update_phone_no(self, phone_no):\n",
    "        self.phone_no = phone_no\n",
    "        print(f'updated phone no to {self.phone_no}')\n",
    "\n",
    "\n",
    "class Customer(Person):\n",
    "    \n",
    "    def __init__(self, name, phone_no, email, payment_method):\n",
    "        self.email = email\n",
    "        self.payment_method = payment_method\n",
    "        #Person.__init__(self, name, phone_no)\n",
    "        super().__init__(name, phone_no)\n",
    "        \n",
    "    def book_cab(self):\n",
    "        pickup = input(\"Enter pick up location: \")\n",
    "        drop = input(\"Enter drop location: \") \n",
    "        print(f'searching for cab from {pickup} to {drop}')\n",
    "        \n",
    "        \n",
    "sri = Customer('Sri', '1234554321', 'sri@test.com', 'paytm')\n",
    "\n",
    "print(sri.greet())"
   ]
  },
  {
   "cell_type": "code",
   "execution_count": 44,
   "metadata": {},
   "outputs": [
    {
     "name": "stdout",
     "output_type": "stream",
     "text": [
      "GRRRRR\n"
     ]
    }
   ],
   "source": [
    "class Dog:\n",
    "    def bark(self):\n",
    "        print('woof')\n",
    "        \n",
    "        \n",
    "class ServiceDog(Dog):\n",
    "    def bark(self):\n",
    "        print('GRRRRR')\n",
    "        \n",
    "        \n",
    "jack = ServiceDog()\n",
    "\n",
    "jack.bark()"
   ]
  },
  {
   "cell_type": "code",
   "execution_count": 45,
   "metadata": {},
   "outputs": [
    {
     "name": "stdout",
     "output_type": "stream",
     "text": [
      "<Response [200]>\n"
     ]
    }
   ],
   "source": [
    "from requests_html import HTMLSession\n",
    "\n",
    "\n",
    "def url_to_response(url):\n",
    "    session = HTMLSession()\n",
    "    response = session.get(url)\n",
    "    return response\n",
    "\n",
    "url = 'https://news.ycombinator.com/'\n",
    "response = url_to_response(url)\n",
    "\n",
    "print(response)"
   ]
  },
  {
   "cell_type": "code",
   "execution_count": 54,
   "metadata": {},
   "outputs": [
    {
     "data": {
      "text/plain": [
       "[{'headline': 'Edward Snowden: Permanent Record',\n",
       "  'link': 'https://www.amazon.com/Permanent-Record-Edward-Snowden/dp/1250237238'},\n",
       " {'headline': 'It’s not just p=0.048 vs. p=0.052',\n",
       "  'link': 'https://statmodeling.stat.columbia.edu/2019/09/06/__trashed-2/'},\n",
       " {'headline': 'Are black holes made of dark energy?',\n",
       "  'link': 'https://phys.org/news/2019-09-black-holes-dark-energy.html'},\n",
       " {'headline': 'How the Many-Worlds Theory of Hugh Everett Split the Universe',\n",
       "  'link': 'https://aeon.co/essays/how-the-many-worlds-theory-of-hugh-everett-split-the-universe'},\n",
       " {'headline': 'People Recognize Objects by Visualizing Their “Skeletons”',\n",
       "  'link': 'https://www.scientificamerican.com/article/no-bones-about-it-people-recognize-objects-by-visualizing-their-skeletons/'},\n",
       " {'headline': 'California passes bill that classifies gig economy workers as employees',\n",
       "  'link': 'https://www.nytimes.com/2019/09/11/technology/california-passes-landmark-bill-to-remake-gig-economy.html'},\n",
       " {'headline': 'Caniuse and MDN compatibility data collaboration',\n",
       "  'link': 'https://hacks.mozilla.org/2019/09/caniuse-and-mdn-compat-data-collaboration/'},\n",
       " {'headline': 'Technical Breakdown of a new NES game written in Lisp',\n",
       "  'link': 'http://www.dustmop.io/blog/2019/09/10/what-remains-technical-breakdown/'},\n",
       " {'headline': 'Bloomberg’s American Mall game (2018)',\n",
       "  'link': 'https://medium.com/the-idea/inside-bloombergs-new-interactive-american-mall-game-5d06e081c39f'},\n",
       " {'headline': 'Hackers Hit Twitter CEO Jack Dorsey in a ‘SIM Swap.’ You’re at Risk, Too',\n",
       "  'link': 'https://www.nytimes.com/2019/09/05/technology/sim-swap-jack-dorsey-hack.html'},\n",
       " {'headline': 'Clubhouse announces new collaboration tool, free project management platform',\n",
       "  'link': 'https://techcrunch.com/2019/09/10/clubhouse-announces-new-collaboration-tool-and-free-version-of-its-project-management-platform/'},\n",
       " {'headline': 'Fairphone 3 Teardown',\n",
       "  'link': 'https://www.ifixit.com/Teardown/Fairphone+3+Teardown/125573'},\n",
       " {'headline': 'Metronomes in JavaScript',\n",
       "  'link': 'https://meowni.ca/posts/metronomes'},\n",
       " {'headline': 'Backpack X-Ray Machine (2016)',\n",
       "  'link': 'https://adammunich.com/backpack-x-ray-machine/'},\n",
       " {'headline': \"The CIA's Secret Quest For Mind Control\",\n",
       "  'link': 'https://www.npr.org/2019/09/09/758989641/the-cias-secret-quest-for-mind-control-torture-lsd-and-a-poisoner-in-chief'},\n",
       " {'headline': 'The U.S. Forgot What Antitrust Is For',\n",
       "  'link': 'https://www.theatlantic.com/ideas/archive/2019/09/how-antitrust-became-pro-pollution-tool/597712/'},\n",
       " {'headline': \"Drought Has Revealed Spain's Long-Submerged 'Stonehenge'\",\n",
       "  'link': 'https://www.atlasobscura.com/articles/spanish-stonehenge-drought'},\n",
       " {'headline': 'How UK security services neutralised the Guardian newspaper',\n",
       "  'link': 'https://www.dailymaverick.co.za/article/2019-09-11-how-the-uk-security-services-neutralised-the-countrys-leading-liberal-newspaper/'},\n",
       " {'headline': 'Tab (YC W15) Is Hiring Lead and Full-Stack Engineers in London',\n",
       "  'link': 'https://jobs.tab.travel/'},\n",
       " {'headline': 'Giving Up Meat Won’t Have Much of an Effect on Climate Change',\n",
       "  'link': 'https://reason.com/2019/07/29/why-giving-up-meat-wont-have-much-of-an-effect-on-climate-change/'},\n",
       " {'headline': 'I Quit Social Media for a Year',\n",
       "  'link': 'https://joshcsimmons.com/2019/09/10/i-quit-social-media-for-a-year-and-nothing-magical-happened/'},\n",
       " {'headline': 'New models suggest Titan lakes are explosion craters',\n",
       "  'link': 'https://phys.org/news/2019-09-titan-lakes-explosion-craters.html'},\n",
       " {'headline': 'Stop Infinite Scrolling on Your Website',\n",
       "  'link': 'https://hackernoon.com/stop-infinite-scrolling-on-your-website-now-ie6rg31eu'},\n",
       " {'headline': 'Mayo Clinic to partner with Google',\n",
       "  'link': 'https://cloud.google.com/blog/topics/customers/how-google-and-mayo-clinic-will-transform-the-future-of-healthcare'},\n",
       " {'headline': 'iPhone 11 Pro and iPhone 11 Pro Max',\n",
       "  'link': 'https://www.apple.com/newsroom/2019/09/iphone-11-pro-and-iphone-11-pro-max-the-most-powerful-and-advanced-smartphones/'},\n",
       " {'headline': 'Socrates Was Against Writing (2011)',\n",
       "  'link': 'http://apt46.net/2011/05/18/socrates-was-against-writing/'},\n",
       " {'headline': 'Can genetics explain why some people thrive on less sleep?',\n",
       "  'link': 'https://www.nytimes.com/2019/08/30/science/sleep-gene.html'},\n",
       " {'headline': 'Leadership Transition Announced for MIT Media Lab',\n",
       "  'link': 'http://news.mit.edu/2019/media-lab-leadership-transition-0910'},\n",
       " {'headline': 'Myanmar Prepares to Migrate from Zawgyi to Unicode',\n",
       "  'link': 'https://globalvoices.org/2019/09/04/unified-under-one-font-system-as-myanmar-prepares-to-migrate-from-zawgyi-to-unicode/'},\n",
       " {'headline': 'Free-to-Play Games: Three Key Trade-Offs',\n",
       "  'link': 'https://thezvi.wordpress.com/2019/09/10/free-to-play-games-two-key-trade-offs/'}]"
      ]
     },
     "execution_count": 54,
     "metadata": {},
     "output_type": "execute_result"
    }
   ],
   "source": [
    "def story_html_to_dict(response):\n",
    "    story_links = response.html.find('.storylink')\n",
    "\n",
    "    articles = []\n",
    "    for story in story_links:\n",
    "        article = {\"headline\": story.text, \"link\": story.links.pop()}\n",
    "        articles.append(article)\n",
    "\n",
    "    return articles\n",
    "\n",
    "story_html_to_dict(response)"
   ]
  },
  {
   "cell_type": "code",
   "execution_count": 72,
   "metadata": {},
   "outputs": [],
   "source": [
    "from requests_html import HTMLSession\n",
    "\n",
    "class HackerRankParser:\n",
    "    def __init__(self):\n",
    "        self.url = 'https://news.ycombinator.com/'\n",
    "        self.response = None\n",
    "        self.articles = None\n",
    "        self.no_of_articles = 0\n",
    "    \n",
    "    def url_to_response(self):\n",
    "        session = HTMLSession()\n",
    "        response = session.get(self.url)\n",
    "        self.response = response\n",
    "        print(response)\n",
    "        return 0\n",
    "    \n",
    "    def parse_articles_from_response(self):\n",
    "        \n",
    "        if self.response == None:\n",
    "            print('Please call the url_to_response funtion first.')\n",
    "            return 0\n",
    "        else:\n",
    "            pass\n",
    "        \n",
    "        story_links = self.response.html.find('.storylink')\n",
    "\n",
    "        articles = []\n",
    "        for story in story_links:\n",
    "            article = {\"headline\": story.text, \"link\": story.links.pop()}\n",
    "            articles.append(article)\n",
    "\n",
    "        self.articles = articles\n",
    "        print(f'Found {len(articles)} articles.')\n",
    "        return 0\n",
    "\n",
    "    def show_articles(self):\n",
    "        for article in self.articles:\n",
    "            print(f\"{article['headline']} \\n {article['link']}\")\n",
    "                  \n",
    "hn_parser = HackerRankParser()"
   ]
  },
  {
   "cell_type": "code",
   "execution_count": 61,
   "metadata": {},
   "outputs": [
    {
     "data": {
      "text/plain": [
       "<HTML url='https://news.ycombinator.com/'>"
      ]
     },
     "execution_count": 61,
     "metadata": {},
     "output_type": "execute_result"
    }
   ],
   "source": []
  },
  {
   "cell_type": "code",
   "execution_count": 65,
   "metadata": {},
   "outputs": [
    {
     "name": "stdout",
     "output_type": "stream",
     "text": [
      "<Response [200]>\n"
     ]
    },
    {
     "data": {
      "text/plain": [
       "0"
      ]
     },
     "execution_count": 65,
     "metadata": {},
     "output_type": "execute_result"
    }
   ],
   "source": [
    "hn_parser.url_to_response()\n",
    "hn_parser.parse_articles_from_response()\n",
    "hn_parser.show_articles()"
   ]
  },
  {
   "cell_type": "code",
   "execution_count": 76,
   "metadata": {},
   "outputs": [
    {
     "name": "stdout",
     "output_type": "stream",
     "text": [
      "<Response [200]>\n",
      "Found 30 articles.\n",
      "Edward Snowden: Permanent Record \n",
      " https://www.amazon.com/Permanent-Record-Edward-Snowden/dp/1250237238\n",
      "Hong Kong Exchanges Bids $39B to Take over London Stock Exchange \n",
      " https://www.reuters.com/article/us-lse-m-a-hong-kong-exchanges/hong-kong-exchanges-bids-39-billion-to-take-over-london-stock-exchange-idUSKCN1VW0YP\n",
      "Are black holes made of dark energy? \n",
      " https://phys.org/news/2019-09-black-holes-dark-energy.html\n",
      "It’s not just p=0.048 vs. p=0.052 \n",
      " https://statmodeling.stat.columbia.edu/2019/09/06/__trashed-2/\n",
      "How the Many-Worlds Theory of Hugh Everett Split the Universe \n",
      " https://aeon.co/essays/how-the-many-worlds-theory-of-hugh-everett-split-the-universe\n",
      "People Recognize Objects by Visualizing Their “Skeletons” \n",
      " https://www.scientificamerican.com/article/no-bones-about-it-people-recognize-objects-by-visualizing-their-skeletons/\n",
      "California passes bill that classifies gig economy workers as employees \n",
      " https://www.nytimes.com/2019/09/11/technology/california-passes-landmark-bill-to-remake-gig-economy.html\n",
      "Caniuse and MDN compatibility data collaboration \n",
      " https://hacks.mozilla.org/2019/09/caniuse-and-mdn-compat-data-collaboration/\n",
      "Technical Breakdown of a new NES game written in Lisp \n",
      " http://www.dustmop.io/blog/2019/09/10/what-remains-technical-breakdown/\n",
      "Fairphone 3 Teardown \n",
      " https://www.ifixit.com/Teardown/Fairphone+3+Teardown/125573\n",
      "Hackers Hit Twitter CEO Jack Dorsey in a ‘SIM Swap.’ You’re at Risk, Too \n",
      " https://www.nytimes.com/2019/09/05/technology/sim-swap-jack-dorsey-hack.html\n",
      "Bloomberg’s American Mall game (2018) \n",
      " https://medium.com/the-idea/inside-bloombergs-new-interactive-american-mall-game-5d06e081c39f\n",
      "Clubhouse announces new collaboration tool, free project management platform \n",
      " https://techcrunch.com/2019/09/10/clubhouse-announces-new-collaboration-tool-and-free-version-of-its-project-management-platform/\n",
      "MIT Technology Review: Anonymous and Unstoppable DNS \n",
      " https://www.technologyreview.com/s/613446/the-ambitious-plan-to-make-the-internets-phone-book-more-trustworthy/\n",
      "Metronomes in JavaScript \n",
      " https://meowni.ca/posts/metronomes\n",
      "The CIA's Secret Quest For Mind Control \n",
      " https://www.npr.org/2019/09/09/758989641/the-cias-secret-quest-for-mind-control-torture-lsd-and-a-poisoner-in-chief\n",
      "Backpack X-Ray Machine (2016) \n",
      " https://adammunich.com/backpack-x-ray-machine/\n",
      "The Codex Quetzalecatzin Comes to the Library of Congress (2017) \n",
      " https://blogs.loc.gov/maps/2017/11/the-codex-quetzelecatzin/\n",
      "The U.S. Forgot What Antitrust Is For \n",
      " https://www.theatlantic.com/ideas/archive/2019/09/how-antitrust-became-pro-pollution-tool/597712/\n",
      "Drought Has Revealed Spain's Long-Submerged 'Stonehenge' \n",
      " https://www.atlasobscura.com/articles/spanish-stonehenge-drought\n",
      "How UK security services neutralised the Guardian newspaper \n",
      " https://www.dailymaverick.co.za/article/2019-09-11-how-the-uk-security-services-neutralised-the-countrys-leading-liberal-newspaper/\n",
      "Tab (YC W15) Is Hiring Lead and Full-Stack Engineers in London \n",
      " https://jobs.tab.travel/\n",
      "I Quit Social Media for a Year \n",
      " https://joshcsimmons.com/2019/09/10/i-quit-social-media-for-a-year-and-nothing-magical-happened/\n",
      "Stop Infinite Scrolling on Your Website \n",
      " https://hackernoon.com/stop-infinite-scrolling-on-your-website-now-ie6rg31eu\n",
      "Mayo Clinic to partner with Google \n",
      " https://cloud.google.com/blog/topics/customers/how-google-and-mayo-clinic-will-transform-the-future-of-healthcare\n",
      "New models suggest Titan lakes are explosion craters \n",
      " https://phys.org/news/2019-09-titan-lakes-explosion-craters.html\n",
      "Socrates Was Against Writing (2011) \n",
      " http://apt46.net/2011/05/18/socrates-was-against-writing/\n",
      "Can genetics explain why some people thrive on less sleep? \n",
      " https://www.nytimes.com/2019/08/30/science/sleep-gene.html\n",
      "iPhone 11 Pro and iPhone 11 Pro Max \n",
      " https://www.apple.com/newsroom/2019/09/iphone-11-pro-and-iphone-11-pro-max-the-most-powerful-and-advanced-smartphones/\n",
      "Leadership Transition Announced for MIT Media Lab \n",
      " http://news.mit.edu/2019/media-lab-leadership-transition-0910\n"
     ]
    }
   ],
   "source": [
    "new_hn_parser = HackerRankParser()\n",
    "new_hn_parser.url_to_response()\n",
    "new_hn_parser.parse_articles_from_response()\n",
    "\n",
    "new_hn_parser.show_articles()\n"
   ]
  },
  {
   "cell_type": "code",
   "execution_count": 79,
   "metadata": {},
   "outputs": [
    {
     "name": "stdout",
     "output_type": "stream",
     "text": [
      "<class 'type'>\n",
      "<class 'requests_html.HTMLSession'>\n"
     ]
    }
   ],
   "source": [
    "from requests_html import HTMLSession\n",
    "\n",
    "\n",
    "print(type(HTMLSession))\n",
    "\n",
    "session = HTMLSession()\n",
    "\n"
   ]
  },
  {
   "cell_type": "code",
   "execution_count": null,
   "metadata": {},
   "outputs": [],
   "source": [
    "\n"
   ]
  },
  {
   "cell_type": "code",
   "execution_count": null,
   "metadata": {},
   "outputs": [],
   "source": []
  }
 ],
 "metadata": {
  "kernelspec": {
   "display_name": "Python 3",
   "language": "python",
   "name": "python3"
  },
  "language_info": {
   "codemirror_mode": {
    "name": "ipython",
    "version": 3
   },
   "file_extension": ".py",
   "mimetype": "text/x-python",
   "name": "python",
   "nbconvert_exporter": "python",
   "pygments_lexer": "ipython3",
   "version": "3.6.8"
  }
 },
 "nbformat": 4,
 "nbformat_minor": 2
}
