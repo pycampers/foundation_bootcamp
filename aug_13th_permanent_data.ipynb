{
 "cells": [
  {
   "cell_type": "code",
   "execution_count": 8,
   "metadata": {},
   "outputs": [
    {
     "name": "stdout",
     "output_type": "stream",
     "text": [
      "Enter total num of companies: 2\n",
      "Enter name of company: apiko\n",
      "Enter official name of company: apiko pvt ltd\n",
      "Enter number of employees: 5\n",
      "Enter number of founders: 1\n",
      "Enter name of founder: prithvi\n",
      "apiko {'official_name': 'apiko pvt ltd', 'num_of_employees': 5, 'names_of_founders': ['prithvi']}\n",
      "Enter name of company: jaaga labs\n",
      "Enter official name of company: jaaga labs pvt ltd\n",
      "Enter number of employees: 10\n",
      "Enter number of founders: 2\n",
      "Enter name of founder: tej\n",
      "Enter name of founder: archna\n",
      "jaaga labs {'official_name': 'jaaga labs pvt ltd', 'num_of_employees': 10, 'names_of_founders': ['tej', 'archna']}\n"
     ]
    }
   ],
   "source": [
    "# Ask user about how many companies there are and how many employes they have.\n",
    "# put this data into a dict and store it also in harddrive.\n",
    "\n",
    "num_of_companies = int(input(\"Enter total num of companies: \"))\n",
    "\n",
    "\n",
    "company_details = {}\n",
    "\n",
    "for i in range(num_of_companies):\n",
    "    name = input(\"Enter name of company: \")\n",
    "    company_dict = {}\n",
    "    company_dict[\"official_name\"] = input(\"Enter official name of company: \")\n",
    "    company_dict[\"num_of_employees\"] = int(input(\"Enter number of employees: \"))\n",
    "    num_of_founders = int(input(\"Enter number of founders: \"))\n",
    "\n",
    "    names_of_founders = []\n",
    "    for num_founders in range(num_of_founders):\n",
    "        founder_name = input(\"Enter name of founder: \")\n",
    "        names_of_founders.append(founder_name)\n",
    "    company_dict[\"names_of_founders\"] = names_of_founders\n",
    "    \n",
    "    print(name, company_dict)\n",
    "    company_details[name] = company_dict"
   ]
  },
  {
   "cell_type": "code",
   "execution_count": 10,
   "metadata": {},
   "outputs": [
    {
     "name": "stdout",
     "output_type": "stream",
     "text": [
      "{'official_name': 'apiko pvt ltd', 'num_of_employees': 5, 'names_of_founders': ['prithvi']}\n"
     ]
    }
   ],
   "source": [
    "print(company_details[\"apiko\"])"
   ]
  },
  {
   "cell_type": "code",
   "execution_count": 14,
   "metadata": {},
   "outputs": [
    {
     "name": "stdout",
     "output_type": "stream",
     "text": [
      "{'apiko': {'official_name': 'apiko pvt ltd', 'num_of_employees': 5, 'names_of_founders': ['prithvi']}, 'jaaga labs': {'official_name': 'jaaga labs pvt ltd', 'num_of_employees': 10, 'names_of_founders': ['tej', 'archna']}} <class 'dict'> \n",
      "\n",
      "{\"apiko\": {\"official_name\": \"apiko pvt ltd\", \"num_of_employees\": 5, \"names_of_founders\": [\"prithvi\"]}, \"jaaga labs\": {\"official_name\": \"jaaga labs pvt ltd\", \"num_of_employees\": 10, \"names_of_founders\": [\"tej\", \"archna\"]}} <class 'str'>\n"
     ]
    }
   ],
   "source": [
    "import json\n",
    "\n",
    "json_company_details = json.dumps(company_details)\n",
    "print(company_details, type(company_details), \"\\n\")\n",
    "\n",
    "print(json_company_details, type(json_company_details))\n",
    "\n"
   ]
  },
  {
   "cell_type": "code",
   "execution_count": null,
   "metadata": {},
   "outputs": [],
   "source": [
    "import json\n",
    "\n",
    "\n",
    "# str = json.dumps(dict)\n",
    "\n",
    "# dict = json.loads(str)"
   ]
  }
 ],
 "metadata": {
  "kernelspec": {
   "display_name": "Python 3",
   "language": "python",
   "name": "python3"
  },
  "language_info": {
   "codemirror_mode": {
    "name": "ipython",
    "version": 3
   },
   "file_extension": ".py",
   "mimetype": "text/x-python",
   "name": "python",
   "nbconvert_exporter": "python",
   "pygments_lexer": "ipython3",
   "version": "3.6.8"
  }
 },
 "nbformat": 4,
 "nbformat_minor": 2
}
