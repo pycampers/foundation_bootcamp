{
 "cells": [
  {
   "cell_type": "code",
   "execution_count": 5,
   "metadata": {},
   "outputs": [
    {
     "name": "stdout",
     "output_type": "stream",
     "text": [
      "2950.0\n"
     ]
    }
   ],
   "source": [
    "number = 2500\n",
    "\n",
    "percent = 18\n",
    "\n",
    "\n",
    "print((number*percent/100)+number)"
   ]
  },
  {
   "cell_type": "code",
   "execution_count": 29,
   "metadata": {},
   "outputs": [
    {
     "name": "stdout",
     "output_type": "stream",
     "text": [
      "enter your mrp:8000\n",
      "MRP\t\t-\t8000Rs\n",
      "GST\t\t-\t1440.0Rs @ 18%\n",
      "Discount\t-\t944.0Rs @ 10%\n",
      "Final Price\t-\t8496.0 Rs\n"
     ]
    }
   ],
   "source": [
    "gst_rate = 18\n",
    "discount = 10\n",
    "\n",
    "# input is MRP\n",
    "# First we need to calc the gst tax and add it to the price.\n",
    "# Then we calc the discount amount and subtract from the price.\n",
    "# Finally we generate a reciept for the user.\n",
    "\n",
    "\n",
    "def gst_added(base_price, gst_rate):\n",
    "    gst_tax = base_price * gst_rate/100\n",
    "    total_price = base_price+gst_tax\n",
    "    return total_price, gst_tax\n",
    "\n",
    "def discount_adder(total_price, discount):\n",
    "    discount_amount = total_price * discount / 100\n",
    "    final_price = total_price - discount_amount\n",
    "    return final_price, discount_amount\n",
    "\n",
    "mrp = int(input('enter your mrp:'))\n",
    "total_price, gst_tax = gst_added(mrp, gst_rate)\n",
    "final_price, discount_amount = discount_adder(total_price, discount)\n",
    "\n",
    "print(f'MRP\\t\\t-\\t{mrp}Rs')\n",
    "print(f'GST\\t\\t-\\t{gst_tax}Rs @ {gst_rate}%')\n",
    "print(f'Discount\\t-\\t{discount_amount}Rs @ {discount}%')\n",
    "print(f'Final Price\\t-\\t{final_price} Rs')"
   ]
  },
  {
   "cell_type": "code",
   "execution_count": 39,
   "metadata": {},
   "outputs": [
    {
     "name": "stdout",
     "output_type": "stream",
     "text": [
      "Number of people who ate food:20\n",
      "Number of people who drank:10\n",
      "Food bill:2000\n",
      "Drinks bill:4000\n",
      "Food cost per head:\t\t-\t 106.2Rs\n",
      "Drinks cost per head:\t\t-\t 424.8Rs\n",
      "Food and Drinks cost per head:\t-\t 531.0Rs\n"
     ]
    }
   ],
   "source": [
    "# food_persons = 6\n",
    "# drink_persons = 6\n",
    "\n",
    "# food_bill = 1000\n",
    "# drinks_bill = 800\n",
    "\n",
    "food_persons = int(input('Number of people who ate food:'))\n",
    "drink_persons = int(input('Number of people who drank:'))\n",
    "food_bill = int(input('Food bill:'))\n",
    "drinks_bill = int(input('Drinks bill:'))\n",
    "\n",
    "def bill_splitter(number_of_people, total_amount):\n",
    "    total_price, gst_tax = gst_added(total_amount, gst_rate)\n",
    "    final_price, discount_amount = discount_adder(total_price, discount)\n",
    "    per_head_cost = final_price / number_of_people\n",
    "    return per_head_cost\n",
    "\n",
    "food_cost_per_head = bill_splitter(food_persons, food_bill)\n",
    "drink_cost_per_head = bill_splitter(drink_persons, drinks_bill)\n",
    "\n",
    "print(f'Food cost per head:\\t\\t-\\t {food_cost_per_head}Rs')\n",
    "print(f'Drinks cost per head:\\t\\t-\\t {drink_cost_per_head}Rs')\n",
    "print(f'Food and Drinks cost per head:\\t-\\t {food_cost_per_head + drink_cost_per_head}Rs')"
   ]
  },
  {
   "cell_type": "code",
   "execution_count": 9,
   "metadata": {},
   "outputs": [
    {
     "name": "stdout",
     "output_type": "stream",
     "text": [
      "Total:\t\t 31000\n",
      "Per day total:\t 1033.3333333333333\n",
      "Per day food:\t 233.33333333333334\n"
     ]
    }
   ],
   "source": [
    "# Per Day Expense Calc\n",
    "\n",
    "rent = 10000\n",
    "food = 7000\n",
    "clothes = 1000\n",
    "travel = 3000\n",
    "party = 5000\n",
    "grocery = 2000\n",
    "maid = 3000\n",
    "total_expense = rent + food + clothes + travel + party + grocery + maid\n",
    "\n",
    "\n",
    "\n",
    "per_day_expense = total_expense/30\n",
    "print('Total:\\t\\t',total_expense)\n",
    "print('Per day total:\\t',per_day_expense)\n",
    "print('Per day food:\\t', food/30)\n"
   ]
  },
  {
   "cell_type": "code",
   "execution_count": 4,
   "metadata": {},
   "outputs": [
    {
     "name": "stdout",
     "output_type": "stream",
     "text": [
      "1\n",
      "2\n",
      "3\n"
     ]
    }
   ],
   "source": [
    "# total_expense = add all the expeses"
   ]
  },
  {
   "cell_type": "code",
   "execution_count": 5,
   "metadata": {},
   "outputs": [
    {
     "name": "stdout",
     "output_type": "stream",
     "text": [
      "0\n",
      "1\n",
      "2\n",
      "3\n"
     ]
    }
   ],
   "source": []
  },
  {
   "cell_type": "code",
   "execution_count": null,
   "metadata": {},
   "outputs": [],
   "source": []
  }
 ],
 "metadata": {
  "kernelspec": {
   "display_name": "Python 3",
   "language": "python",
   "name": "python3"
  },
  "language_info": {
   "codemirror_mode": {
    "name": "ipython",
    "version": 3
   },
   "file_extension": ".py",
   "mimetype": "text/x-python",
   "name": "python",
   "nbconvert_exporter": "python",
   "pygments_lexer": "ipython3",
   "version": "3.6.9"
  }
 },
 "nbformat": 4,
 "nbformat_minor": 2
}
