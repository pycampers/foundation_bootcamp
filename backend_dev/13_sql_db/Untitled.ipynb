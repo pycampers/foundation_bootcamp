{
 "cells": [
  {
   "cell_type": "code",
   "execution_count": 6,
   "metadata": {},
   "outputs": [
    {
     "name": "stdout",
     "output_type": "stream",
     "text": [
      "India\n"
     ]
    }
   ],
   "source": [
    "User = {'name':'Hasan',\n",
    "        'phone_no':'123456789',\n",
    "        'country': 1}\n",
    "\n",
    "\n",
    "Countries = {1: 'India',\n",
    "            2: 'USA',\n",
    "            3: 'Italy',\n",
    "            4: 'Germany'}\n",
    "\n",
    "\n",
    "print(Countries[User['country']])"
   ]
  },
  {
   "cell_type": "code",
   "execution_count": null,
   "metadata": {},
   "outputs": [],
   "source": []
  }
 ],
 "metadata": {
  "kernelspec": {
   "display_name": "Python 3",
   "language": "python",
   "name": "python3"
  },
  "language_info": {
   "codemirror_mode": {
    "name": "ipython",
    "version": 3
   },
   "file_extension": ".py",
   "mimetype": "text/x-python",
   "name": "python",
   "nbconvert_exporter": "python",
   "pygments_lexer": "ipython3",
   "version": "3.6.8"
  }
 },
 "nbformat": 4,
 "nbformat_minor": 2
}
