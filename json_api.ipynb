{
 "cells": [
  {
   "cell_type": "code",
   "execution_count": 3,
   "metadata": {},
   "outputs": [
    {
     "name": "stdout",
     "output_type": "stream",
     "text": [
      "json_api.ipynb\r\n"
     ]
    }
   ],
   "source": [
    "!pip3 install requests"
   ]
  },
  {
   "cell_type": "code",
   "execution_count": 4,
   "metadata": {},
   "outputs": [
    {
     "name": "stdout",
     "output_type": "stream",
     "text": [
      "<Response [200]>\n"
     ]
    }
   ],
   "source": [
    "import requests\n",
    "\n",
    "url = \"http://www.google.com\"\n",
    "\n",
    "response = requests.get(url)\n",
    "\n",
    "print(response)"
   ]
  },
  {
   "cell_type": "code",
   "execution_count": 5,
   "metadata": {},
   "outputs": [
    {
     "name": "stdout",
     "output_type": "stream",
     "text": [
      "b'<!doctype html><html itemscope=\"\" itemtype=\"http://schema.org/WebPage\" lang=\"en-IN\"><head><meta content=\"text/html; charset=UTF-8\" http-equiv=\"Content-Type\"><meta content=\"/images/branding/googleg/1x/googleg_standard_color_128dp.png\" itemprop=\"image\"><title>Google</title><script nonce=\"QTGWcbESVFK6jidSKkYHhQ==\">(function(){window.google={kEI:\\'MPxsXeCtI9rTz7sPx5Wm0AE\\',kEXPI:\\'0,1353746,2016,2422,1225,730,224,510,1065,2081,1070,378,207,1070,1431,526,51,2,124,10,713,227,111,240,4,17,1132348,1197720,329547,1294,12383,4855,32691,15248,867,6057,6106,6381,3335,2,2,6799,371,738,2576,5505,224,2218,5367,575,1119,2,1306,2432,58,2,2,2,1297,4323,3698,1270,773,2252,1405,2487,1996,9,1749,218,6192,669,1050,1808,1478,7,3,488,2044,5762,1,2841,307,5294,2017,38,918,875,1217,1336,28,1611,2736,1558,1097,315,97,2,209,1,415,3240,4192,1218,2,1782,252,620,2884,20,317,235,455,429,904,1150,975,1,369,2777,519,400,992,509,778,6,87,22,2687,967,48,553,11,14,667,612,2212,202,37,131,155,5,1245,7,83,757,324,193,1522,820,1665,1,954,335,483,260,52,1132,4,3,1509,1160,1839,184,595,1325,377,361,325,1261,242,505,61,184,72,112,44,207,1,894,328,1284,16,84,336,81,506,1253,667,42,1,104,1492,607,101,328,45,1346,722,501,120,437,3094,133,521,252,41,140,79,769,519,524,7,503,225,592,523,76,771,78,126,1378,169,789,639,556,176,1132,610,60,957,1246,1148,492,211,363,48,60,266,8,228,190,129,79,310,8,112,2,90,605,130,119,19,34,55,3,38,431,606,303,29,29,515,259,292,27,76,67,59,109,16,615,588,5897472,6000466,2799874,4,1572,549,333,444,1,2,80,1,900,583,9,304,1,8,1,2,2132,1,1,1,1,1,414,1,889,59,726,3,9,4,557,1,3514,46,1,86,1,1,19,4,2,27,2,22303435\\',authuser:0,kscs:\\'c9c918f0_MPxsXeCtI9rTz7sPx5Wm0AE\\',kGL:\\'IN\\',kBL:\\'22hm\\'};google.sn=\\'webhp\\';google.kHL=\\'en-IN\\';google.jsfs=\\'Ffpdje\\';})();(function(){google.lc=[];google.li=0;google.getEI=function(a){for(var b;a&&(!a.getAttribute||!(b=a.getAttribute(\"eid\")));)a=a.parentNode;return b||google.kEI};google.getLEI=function(a){for(var b=null;a&&(!a.getAttribute||!(b=a.getAttribute(\"leid\")));)a=a.parentNode;return b};google.https=function(){return\"https:\"==window.location.protocol};google.ml=function(){return null};google.time=function(){return(new Date).getTime()};google.log=function(a,b,e,c,g){if(a=google.logUrl(a,b,e,c,g)){b=new Image;var d=google.lc,f=google.li;d[f]=b;b.onerror=b.onload=b.onabort=function(){delete d[f]};google.vel&&google.vel.lu&&google.vel.lu(a);b.src=a;google.li=f+1}};google.logUrl=function(a,b,e,c,g){var d=\"\",f=google.ls||\"\";e||-1!=b.search(\"&ei=\")||(d=\"&ei=\"+google.getEI(c),-1==b.search(\"&lei=\")&&(c=google.getLEI(c))&&(d+=\"&lei=\"+c));c=\"\";!e&&google.cshid&&-1==b.search(\"&cshid=\")&&\"slh\"!=a&&(c=\"&cshid=\"+google.cshid);a=e||\"/\"+(g||\"gen_204\")+\"?atyp=i&ct=\"+a+\"&cad=\"+b+d+f+\"&zx=\"+google.time()+c;/^http:/i.test(a)&&google.https()&&(google.ml(Error(\"a\"),!1,{src:a,glmm:1}),a=\"\");return a};}).call(this);(function(){google.y={};google.x=function(a,b){if(a)var c=a.id;else{do c=Math.random();while(google.y[c])}google.y[c]=[a,b];return!1};google.lm=[];google.plm=function(a){google.lm.push.apply(google.lm,a)};google.lq=[];google.load=function(a,b,c){google.lq.push([[a],b,c])};google.loadAll=function(a,b){google.lq.push([a,b])};}).call(this);google.f={};var a=window.location,b=a.href.indexOf(\"#\");if(0<=b){var c=a.href.substring(b+1);/(^|&)q=/.test(c)&&-1==c.indexOf(\"#\")&&a.replace(\"/search?\"+c.replace(/(^|&)fp=[^&]*/g,\"\")+\"&cad=h\")};</script><style>#gbar,#guser{font-size:13px;padding-top:1px !important;}#gbar{height:22px}#guser{padding-bottom:7px !important;text-align:right}.gbh,.gbd{border-top:1px solid #c9d7f1;font-size:1px}.gbh{height:0;position:absolute;top:24px;width:100%}@media all{.gb1{height:22px;margin-right:.5em;vertical-align:top}#gbar{float:left}}a.gb1,a.gb4{text-decoration:underline !important}a.gb1,a.gb4{color:#00c !important}.gbi .gb4{color:#dd8e27 !important}.gbf .gb4{color:#900 !important}\\n</style><style>body,td,a,p,.h{font-family:arial,sans-serif}body{margin:0;overflow-y:scroll}#gog{padding:3px 8px 0}td{line-height:.8em}.gac_m td{line-height:17px}form{margin-bottom:20px}.h{color:#36c}.q{color:#00c}.ts td{padding:0}.ts{border-collapse:collapse}em{font-weight:bold;font-style:normal}.lst{height:25px;width:496px}.gsfi,.lst{font:18px arial,sans-serif}.gsfs{font:17px arial,sans-serif}.ds{display:inline-box;display:inline-block;margin:3px 0 4px;margin-left:4px}input{font-family:inherit}a.gb1,a.gb2,a.gb3,a.gb4{color:#11c !important}body{background:#fff;color:black}a{color:#11c;text-decoration:none}a:hover,a:active{text-decoration:underline}.fl a{color:#36c}a:visited{color:#551a8b}a.gb1,a.gb4{text-decoration:underline}a.gb3:hover{text-decoration:none}#ghead a.gb2:hover{color:#fff !important}.sblc{padding-top:5px}.sblc a{display:block;margin:2px 0;margin-left:13px;font-size:11px}.lsbb{background:#eee;border:solid 1px;border-color:#ccc #999 #999 #ccc;height:30px}.lsbb{display:block}.ftl,#fll a{display:inline-block;margin:0 12px}.lsb{background:url(/images/nav_logo229.png) 0 -261px repeat-x;border:none;color:#000;cursor:pointer;height:30px;margin:0;outline:0;font:15px arial,sans-serif;vertical-align:top}.lsb:active{background:#ccc}.lst:focus{outline:none}</style><script nonce=\"QTGWcbESVFK6jidSKkYHhQ==\"></script></head><body bgcolor=\"#fff\"><script nonce=\"QTGWcbESVFK6jidSKkYHhQ==\">(function(){var src=\\'/images/nav_logo229.png\\';var iesg=false;document.body.onload = function(){window.n && window.n();if (document.images){new Image().src=src;}\\nif (!iesg){document.f&&document.f.q.focus();document.gbqf&&document.gbqf.q.focus();}\\n}\\n})();</script><div id=\"mngb\"> <div id=gbar><nobr><b class=gb1>Search</b> <a class=gb1 href=\"http://www.google.co.in/imghp?hl=en&tab=wi\">Images</a> <a class=gb1 href=\"http://maps.google.co.in/maps?hl=en&tab=wl\">Maps</a> <a class=gb1 href=\"https://play.google.com/?hl=en&tab=w8\">Play</a> <a class=gb1 href=\"http://www.youtube.com/?gl=IN&tab=w1\">YouTube</a> <a class=gb1 href=\"http://news.google.co.in/nwshp?hl=en&tab=wn\">News</a> <a class=gb1 href=\"https://mail.google.com/mail/?tab=wm\">Gmail</a> <a class=gb1 href=\"https://drive.google.com/?tab=wo\">Drive</a> <a class=gb1 style=\"text-decoration:none\" href=\"https://www.google.co.in/intl/en/about/products?tab=wh\"><u>More</u> &raquo;</a></nobr></div><div id=guser width=100%><nobr><span id=gbn class=gbi></span><span id=gbf class=gbf></span><span id=gbe></span><a href=\"http://www.google.co.in/history/optout?hl=en\" class=gb4>Web History</a> | <a  href=\"/preferences?hl=en\" class=gb4>Settings</a> | <a target=_top id=gb_70 href=\"https://accounts.google.com/ServiceLogin?hl=en&passive=true&continue=http://www.google.com/\" class=gb4>Sign in</a></nobr></div><div class=gbh style=left:0></div><div class=gbh style=right:0></div> </div><center><br clear=\"all\" id=\"lgpd\"><div id=\"lga\"><img alt=\"Google\" height=\"92\" src=\"/images/branding/googlelogo/1x/googlelogo_white_background_color_272x92dp.png\" style=\"padding:28px 0 14px\" width=\"272\" id=\"hplogo\"><br><br></div><form action=\"/search\" name=\"f\"><table cellpadding=\"0\" cellspacing=\"0\"><tr valign=\"top\"><td width=\"25%\">&nbsp;</td><td align=\"center\" nowrap=\"\"><input name=\"ie\" value=\"ISO-8859-1\" type=\"hidden\"><input value=\"en-IN\" name=\"hl\" type=\"hidden\"><input name=\"source\" type=\"hidden\" value=\"hp\"><input name=\"biw\" type=\"hidden\"><input name=\"bih\" type=\"hidden\"><div class=\"ds\" style=\"height:32px;margin:4px 0\"><input style=\"color:#000;margin:0;padding:5px 8px 0 6px;vertical-align:top\" autocomplete=\"off\" class=\"lst\" value=\"\" title=\"Google Search\" maxlength=\"2048\" name=\"q\" size=\"57\"></div><br style=\"line-height:0\"><span class=\"ds\"><span class=\"lsbb\"><input class=\"lsb\" value=\"Google Search\" name=\"btnG\" type=\"submit\"></span></span><span class=\"ds\"><span class=\"lsbb\"><input class=\"lsb\" value=\"I\\'m Feeling Lucky\" name=\"btnI\" onclick=\"/*gws_metadata_pragma__js_inline_handler*/ if(this.form.q.value){ this.checked=1; if (this.form.iflsig)this.form.iflsig.disabled=false; } else top.location=\\'/doodles/\\'\" type=\"submit\"></span></span></td><td class=\"fl sblc\" align=\"left\" nowrap=\"\" width=\"25%\"><a href=\"/advanced_search?hl=en-IN&amp;authuser=0\">Advanced search</a><a href=\"/language_tools?hl=en-IN&amp;authuser=0\">Language tools</a></td></tr></table><input id=\"gbv\" name=\"gbv\" type=\"hidden\" value=\"1\"><script nonce=\"QTGWcbESVFK6jidSKkYHhQ==\">(function(){var a,b=\"1\";if(document&&document.getElementById)if(\"undefined\"!=typeof XMLHttpRequest)b=\"2\";else if(\"undefined\"!=typeof ActiveXObject){var c,d,e=[\"MSXML2.XMLHTTP.6.0\",\"MSXML2.XMLHTTP.3.0\",\"MSXML2.XMLHTTP\",\"Microsoft.XMLHTTP\"];for(c=0;d=e[c++];)try{new ActiveXObject(d),b=\"2\"}catch(h){}}a=b;if(\"2\"==a&&-1==location.search.indexOf(\"&gbv=2\")){var f=google.gbvu,g=document.getElementById(\"gbv\");g&&(g.value=a);f&&window.setTimeout(function(){location.href=f},0)};}).call(this);</script></form><div id=\"gac_scont\"></div><div style=\"font-size:83%;min-height:3.5em\"><br><div id=\"gws-output-pages-elements-homepage_additional_languages__als\"><style>#gws-output-pages-elements-homepage_additional_languages__als{font-size:small;margin-bottom:24px}#SIvCob{display:inline-block;line-height:28px;}#SIvCob a{padding:0 3px;}.H6sW5{display:inline-block;margin:0 2px;white-space:nowrap}.z4hgWe{display:inline-block;margin:0 2px}</style><div id=\"SIvCob\">Google offered in:  <a href=\"http://www.google.com/setprefs?sig=0_a52PjLBCWe1PUtLroi9tia1QkKs%3D&amp;hl=hi&amp;source=homepage&amp;sa=X&amp;ved=0ahUKEwjghfHYg7LkAhXa6XMBHceKCRoQ2ZgBCAU\">&#2361;&#2367;&#2344;&#2381;&#2342;&#2368;</a>    <a href=\"http://www.google.com/setprefs?sig=0_a52PjLBCWe1PUtLroi9tia1QkKs%3D&amp;hl=bn&amp;source=homepage&amp;sa=X&amp;ved=0ahUKEwjghfHYg7LkAhXa6XMBHceKCRoQ2ZgBCAY\">&#2476;&#2494;&#2434;&#2482;&#2494;</a>    <a href=\"http://www.google.com/setprefs?sig=0_a52PjLBCWe1PUtLroi9tia1QkKs%3D&amp;hl=te&amp;source=homepage&amp;sa=X&amp;ved=0ahUKEwjghfHYg7LkAhXa6XMBHceKCRoQ2ZgBCAc\">&#3108;&#3142;&#3122;&#3137;&#3095;&#3137;</a>    <a href=\"http://www.google.com/setprefs?sig=0_a52PjLBCWe1PUtLroi9tia1QkKs%3D&amp;hl=mr&amp;source=homepage&amp;sa=X&amp;ved=0ahUKEwjghfHYg7LkAhXa6XMBHceKCRoQ2ZgBCAg\">&#2350;&#2352;&#2366;&#2336;&#2368;</a>    <a href=\"http://www.google.com/setprefs?sig=0_a52PjLBCWe1PUtLroi9tia1QkKs%3D&amp;hl=ta&amp;source=homepage&amp;sa=X&amp;ved=0ahUKEwjghfHYg7LkAhXa6XMBHceKCRoQ2ZgBCAk\">&#2980;&#2990;&#3007;&#2996;&#3021;</a>    <a href=\"http://www.google.com/setprefs?sig=0_a52PjLBCWe1PUtLroi9tia1QkKs%3D&amp;hl=gu&amp;source=homepage&amp;sa=X&amp;ved=0ahUKEwjghfHYg7LkAhXa6XMBHceKCRoQ2ZgBCAo\">&#2711;&#2753;&#2716;&#2736;&#2750;&#2724;&#2752;</a>    <a href=\"http://www.google.com/setprefs?sig=0_a52PjLBCWe1PUtLroi9tia1QkKs%3D&amp;hl=kn&amp;source=homepage&amp;sa=X&amp;ved=0ahUKEwjghfHYg7LkAhXa6XMBHceKCRoQ2ZgBCAs\">&#3221;&#3240;&#3277;&#3240;&#3233;</a>    <a href=\"http://www.google.com/setprefs?sig=0_a52PjLBCWe1PUtLroi9tia1QkKs%3D&amp;hl=ml&amp;source=homepage&amp;sa=X&amp;ved=0ahUKEwjghfHYg7LkAhXa6XMBHceKCRoQ2ZgBCAw\">&#3374;&#3378;&#3375;&#3390;&#3379;&#3330;</a>    <a href=\"http://www.google.com/setprefs?sig=0_a52PjLBCWe1PUtLroi9tia1QkKs%3D&amp;hl=pa&amp;source=homepage&amp;sa=X&amp;ved=0ahUKEwjghfHYg7LkAhXa6XMBHceKCRoQ2ZgBCA0\">&#2602;&#2672;&#2588;&#2622;&#2604;&#2624;</a>  </div></div></div><span id=\"footer\"><div style=\"font-size:10pt\"><div style=\"margin:19px auto;text-align:center\" id=\"fll\"><a href=\"/intl/en/ads/\">Advertising\\xa0Programs</a><a href=\"http://www.google.co.in/services/\">Business Solutions</a><a href=\"/intl/en/about.html\">About Google</a><a href=\"http://www.google.com/setprefdomain?prefdom=IN&amp;prev=http://www.google.co.in/&amp;sig=K_fcI4mMRq-JCTJipbj-94mh-gmdQ%3D\">Google.co.in</a></div></div><p style=\"color:#767676;font-size:8pt\">&copy; 2019 - <a href=\"/intl/en/policies/privacy/\">Privacy</a> - <a href=\"/intl/en/policies/terms/\">Terms</a></p></span></center><script nonce=\"QTGWcbESVFK6jidSKkYHhQ==\">(function(){window.google.cdo={height:0,width:0};(function(){var a=window.innerWidth,b=window.innerHeight;if(!a||!b){var c=window.document,d=\"CSS1Compat\"==c.compatMode?c.documentElement:c.body;a=d.clientWidth;b=d.clientHeight}a&&b&&(a!=google.cdo.width||b!=google.cdo.height)&&google.log(\"\",\"\",\"/client_204?&atyp=i&biw=\"+a+\"&bih=\"+b+\"&ei=\"+google.kEI);}).call(this);})();(function(){var u=\\'/xjs/_/js/k\\\\x3dxjs.hp.en.XSMf0WjpdL0.O/m\\\\x3dsb_he,d/am\\\\x3dHhbUBA/d\\\\x3d1/rs\\\\x3dACT90oGTe5uQdKtCH15IwXxDcdk4RNBA2A\\';setTimeout(function(){var a=document.createElement(\"script\");a.src=u;google.timers&&google.timers.load&&google.tick&&google.tick(\"load\",\"xjsls\");document.body.appendChild(a)},0);})();(function(){window.google.xjsu=\\'/xjs/_/js/k\\\\x3dxjs.hp.en.XSMf0WjpdL0.O/m\\\\x3dsb_he,d/am\\\\x3dHhbUBA/d\\\\x3d1/rs\\\\x3dACT90oGTe5uQdKtCH15IwXxDcdk4RNBA2A\\';})();function _DumpException(e){throw e;}\\nfunction _F_installCss(c){}\\n(function(){google.spjs=false;google.snet=true;google.em=[];google.emw=false;})();google.sm=1;(function(){var pmc=\\'{\\\\x22JnTczA\\\\x22:{},\\\\x22Qnk92g\\\\x22:{},\\\\x22RWGcrA\\\\x22:{},\\\\x22U5B21g\\\\x22:{},\\\\x22YFCs/g\\\\x22:{},\\\\x22YQeDTA\\\\x22:{},\\\\x22ZI/YVQ\\\\x22:{},\\\\x22d\\\\x22:{},\\\\x22mVopag\\\\x22:{},\\\\x22sb_he\\\\x22:{\\\\x22agen\\\\x22:true,\\\\x22cgen\\\\x22:true,\\\\x22client\\\\x22:\\\\x22heirloom-hp\\\\x22,\\\\x22dh\\\\x22:true,\\\\x22dhqt\\\\x22:true,\\\\x22ds\\\\x22:\\\\x22\\\\x22,\\\\x22ffql\\\\x22:\\\\x22en\\\\x22,\\\\x22fl\\\\x22:true,\\\\x22host\\\\x22:\\\\x22google.com\\\\x22,\\\\x22isbh\\\\x22:28,\\\\x22jsonp\\\\x22:true,\\\\x22msgs\\\\x22:{\\\\x22cibl\\\\x22:\\\\x22Clear Search\\\\x22,\\\\x22dym\\\\x22:\\\\x22Did you mean:\\\\x22,\\\\x22lcky\\\\x22:\\\\x22I\\\\\\\\u0026#39;m Feeling Lucky\\\\x22,\\\\x22lml\\\\x22:\\\\x22Learn more\\\\x22,\\\\x22oskt\\\\x22:\\\\x22Input tools\\\\x22,\\\\x22psrc\\\\x22:\\\\x22This search was removed from your \\\\\\\\u003Ca href\\\\x3d\\\\\\\\\\\\x22/history\\\\\\\\\\\\x22\\\\\\\\u003EWeb History\\\\\\\\u003C/a\\\\\\\\u003E\\\\x22,\\\\x22psrl\\\\x22:\\\\x22Remove\\\\x22,\\\\x22sbit\\\\x22:\\\\x22Search by image\\\\x22,\\\\x22srch\\\\x22:\\\\x22Google Search\\\\x22},\\\\x22ovr\\\\x22:{},\\\\x22pq\\\\x22:\\\\x22\\\\x22,\\\\x22refpd\\\\x22:true,\\\\x22rfs\\\\x22:[],\\\\x22sbpl\\\\x22:24,\\\\x22sbpr\\\\x22:24,\\\\x22scd\\\\x22:10,\\\\x22sce\\\\x22:5,\\\\x22stok\\\\x22:\\\\x224dMdPOd1Ng465k7gvrAsa_jagQY\\\\x22,\\\\x22uhde\\\\x22:false}}\\';google.pmc=JSON.parse(pmc);})();</script>        </body></html>'\n"
     ]
    }
   ],
   "source": [
    "print(response.content)"
   ]
  },
  {
   "cell_type": "code",
   "execution_count": null,
   "metadata": {},
   "outputs": [],
   "source": [
    "!ifconfig #mac/linux\n",
    "!ipconfig #windows"
   ]
  },
  {
   "cell_type": "code",
   "execution_count": 16,
   "metadata": {},
   "outputs": [
    {
     "name": "stdout",
     "output_type": "stream",
     "text": [
      "b'{\"ip\":\"106.51.226.181\"}'\n"
     ]
    }
   ],
   "source": [
    "ip_address_url = \"https://api.ipify.org/?format=json\"\n",
    "\n",
    "response = requests.get(ip_address_url)\n",
    "\n",
    "ip_data = response.content\n",
    "\n",
    "print(ip_data)"
   ]
  },
  {
   "cell_type": "code",
   "execution_count": 12,
   "metadata": {},
   "outputs": [
    {
     "name": "stdout",
     "output_type": "stream",
     "text": [
      "{'ip': '106.51.226.181'}\n",
      "106.51.226.181\n"
     ]
    }
   ],
   "source": [
    "import json\n",
    "\n",
    "ip_data_dict = json.loads(ip_data)\n",
    "print(ip_data_dict)\n",
    "\n",
    "print(ip_data_dict[\"ip\"])"
   ]
  },
  {
   "cell_type": "code",
   "execution_count": 24,
   "metadata": {},
   "outputs": [
    {
     "name": "stdout",
     "output_type": "stream",
     "text": [
      "106.51.226.181\n",
      "{'day_of_year': 245, 'week_number': 36, 'day_of_week': 1, 'datetime': '2019-09-02T17:45:21.019286+05:30'}\n"
     ]
    }
   ],
   "source": [
    "def get_public_ip():\n",
    "    ip_address_url = \"https://api.ipify.org/?format=json\"\n",
    "\n",
    "    response = requests.get(ip_address_url)\n",
    "\n",
    "    ip_data = response.content\n",
    "    ip_data_dict = json.loads(ip_data)\n",
    "\n",
    "    return ip_data_dict[\"ip\"]\n",
    "\n",
    "def get_timezone_data(public_ip):\n",
    "    timezone_url = f\"http://worldtimeapi.org/api/ip/{public_ip}.json\"\n",
    "\n",
    "    response = requests.get(timezone_url)\n",
    "    timezone_data = json.loads(response.content)\n",
    "\n",
    "    time_important_data = {}\n",
    "    time_important_data[\"day_of_year\"] = timezone_data[\"day_of_year\"]\n",
    "    time_important_data[\"week_number\"] = timezone_data[\"week_number\"]\n",
    "    time_important_data[\"day_of_week\"] = timezone_data[\"day_of_week\"]\n",
    "    time_important_data[\"datetime\"] = timezone_data[\"datetime\"]\n",
    "\n",
    "    return time_important_data\n",
    "\n",
    "\n",
    "public_ip = get_public_ip()\n",
    "print(public_ip)\n",
    "\n",
    "time_data = get_timezone_data(public_ip)\n",
    "print(time_data)"
   ]
  },
  {
   "cell_type": "code",
   "execution_count": 23,
   "metadata": {},
   "outputs": [
    {
     "name": "stdout",
     "output_type": "stream",
     "text": [
      "{'day_of_year': 245, 'week_number': 36, 'day_of_week': 1, 'datetime': '2019-09-02T17:43:31.264007+05:30'}\n"
     ]
    }
   ],
   "source": [
    "def get_timezone_data(public_ip):\n",
    "    timezone_url = f\"http://worldtimeapi.org/api/ip/{public_ip}.json\"\n",
    "\n",
    "    response = requests.get(timezone_url)\n",
    "    timezone_data = json.loads(response.content)\n",
    "\n",
    "    time_important_data = {}\n",
    "    time_important_data[\"day_of_year\"] = timezone_data[\"day_of_year\"]\n",
    "    time_important_data[\"week_number\"] = timezone_data[\"week_number\"]\n",
    "    time_important_data[\"day_of_week\"] = timezone_data[\"day_of_week\"]\n",
    "    time_important_data[\"datetime\"] = timezone_data[\"datetime\"]\n",
    "\n",
    "    return time_important_data\n",
    "\n",
    "time_data = get_timezone_data(public_ip)\n",
    "print(time_data)"
   ]
  },
  {
   "cell_type": "code",
   "execution_count": null,
   "metadata": {},
   "outputs": [],
   "source": []
  }
 ],
 "metadata": {
  "kernelspec": {
   "display_name": "Python 3",
   "language": "python",
   "name": "python3"
  },
  "language_info": {
   "codemirror_mode": {
    "name": "ipython",
    "version": 3
   },
   "file_extension": ".py",
   "mimetype": "text/x-python",
   "name": "python",
   "nbconvert_exporter": "python",
   "pygments_lexer": "ipython3",
   "version": "3.6.8"
  }
 },
 "nbformat": 4,
 "nbformat_minor": 2
}
