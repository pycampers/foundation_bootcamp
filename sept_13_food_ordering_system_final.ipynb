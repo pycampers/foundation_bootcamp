{
 "cells": [
  {
   "cell_type": "code",
   "execution_count": 63,
   "metadata": {},
   "outputs": [],
   "source": [
    "import uuid \n",
    "\n",
    "\n",
    "class Item:\n",
    "    def __init__(self, name, price):\n",
    "        self.name = name\n",
    "        self.price = price\n",
    "        \n",
    "    def __str__(self):\n",
    "        return self.name\n",
    "\n",
    "\n",
    "class OrderItem:\n",
    "    def __init__(self, item, quantity):\n",
    "        self.item = item\n",
    "        self.quantity = quantity\n",
    "        self.item_total = self.item.price * self.quantity\n",
    "        \n",
    "    def __str__(self):\n",
    "        return f\"{self.item} x {self.quantity} = {self.item_total}\"\n",
    "    \n",
    "\n",
    "class Order:\n",
    "    def __init__(self):\n",
    "        self.id = uuid.uuid4()\n",
    "        self.status = \"In Process\"\n",
    "        self.cart = []\n",
    "        self.item_total = 0\n",
    "        self.delivery_cost = 20\n",
    "        self.total_cost = 0 + self.delivery_cost\n",
    "        \n",
    "        \n",
    "    def add_item(self, food_item):\n",
    "        self.item_total += food_item.item_total\n",
    "        self.total_cost += food_item.item_total\n",
    "        self.cart.append(food_item)\n",
    "        \n",
    "    def __str__(self):\n",
    "        return f\"id: {self.id}\"\n",
    "        \n",
    "\n",
    "\n",
    "class Restaurant:\n",
    "    def __init__(self, name, address, phone_no):\n",
    "        self.name = name\n",
    "        self.address = address\n",
    "        self.phone_no = phone_no\n",
    "        self.menu = []\n",
    "        self.orders = []\n",
    "        \n",
    "    def __str__(self):\n",
    "        return f\"{self.name} - {self.address}\"\n",
    "        \n",
    "    def add_item(self, item):\n",
    "        self.menu.append(item)\n",
    "        \n",
    "    def add_order(self, order):\n",
    "        self.orders.append(order)"
   ]
  },
  {
   "cell_type": "code",
   "execution_count": 64,
   "metadata": {},
   "outputs": [],
   "source": [
    "rest_details = [[\"Udupi\", \"Richmond Circle\", \"1234567890\"],\n",
    "               [\"Healthy Menu\", \"Kormangla\", \"8888888888\"],\n",
    "               [\"Shiv Sagar\", \"JP Nagar\", \"7777777777\"]]\n",
    "\n",
    "\n",
    "rest_objects = []\n",
    "for detail in rest_details:\n",
    "    my_rest = Restaurant(detail[0], detail[1], detail[2])\n",
    "    rest_objects.append(my_rest)"
   ]
  },
  {
   "cell_type": "code",
   "execution_count": 65,
   "metadata": {},
   "outputs": [],
   "source": [
    "udupi_items = [[\"Masala Dosa\", 50],\n",
    "               [\"Rawa Idli\", 24],\n",
    "               [\"Paneer Noodles\", 110],\n",
    "               [\"Paneer Plain Dosa\", 60]\n",
    "              ]\n",
    "\n",
    "healthy_items = [[\"Greek Salad\", 150],\n",
    "               [\"Cesar Salad\", 125],\n",
    "               [\"Fruit Salad\", 175],\n",
    "               [\"Dry Fruit Smoothy\", 200]\n",
    "               ]\n",
    "                \n",
    "shiv_sagar_items = [[\"Mango Milkshake\", 70],\n",
    "                   [\"Chocolate Milkshake\", 100],\n",
    "                   [\"Ice Cream\", 50],\n",
    "                   [\"Lime Juice\", 40]]\n"
   ]
  },
  {
   "cell_type": "code",
   "execution_count": 66,
   "metadata": {},
   "outputs": [],
   "source": [
    "food_menu = shiv_sagar_items\n",
    "\n",
    "food_place = rest_objects[2]\n",
    "\n",
    "for food_item in food_menu:\n",
    "    item_object= Item(food_item[0], food_item[1])\n",
    "    food_place.add_item(item_object)"
   ]
  },
  {
   "cell_type": "code",
   "execution_count": 67,
   "metadata": {},
   "outputs": [
    {
     "name": "stdout",
     "output_type": "stream",
     "text": [
      "Ice Cream\n"
     ]
    }
   ],
   "source": [
    "print(rest_objects[2].menu[2])"
   ]
  },
  {
   "cell_type": "code",
   "execution_count": 68,
   "metadata": {},
   "outputs": [],
   "source": [
    "def select_rest(rest_objects):\n",
    "    for i in range(len(rest_objects)):\n",
    "        print(f'{i+1} - {rest_objects[i]}')\n",
    "\n",
    "    selected_rest = int(input(\"Select Your Restaurant: \"))\n",
    "    selected_rest_object = rest_objects[selected_rest - 1]\n",
    "    print(f'Selected Restaurant is {selected_rest_object}')\n",
    "    return selected_rest_object\n",
    "\n",
    "def take_order(our_rest):\n",
    "    menu = our_rest.menu\n",
    "    for item_num in range(len(menu)):\n",
    "        print(f\"{item_num+1} - {menu[item_num].name} - {menu[item_num].price}\")\n",
    "    \n",
    "#     all_order_items = []\n",
    "    current_order_object = Order()\n",
    "    \n",
    "    while True:\n",
    "        selected_dish_num = int(input(\"Select your dish: \")) - 1\n",
    "        quantity = int(input(\"Enter Quantity: \"))\n",
    "\n",
    "        selected_dish = menu[selected_dish_num]\n",
    "\n",
    "        current_order_item = OrderItem(selected_dish, quantity)\n",
    "#         all_order_items.append(current_order_item)\n",
    "\n",
    "        current_order_object.add_item(current_order_item)\n",
    "        more_items = input(\"Do you want to order more? (yes/no): \")\n",
    "        \n",
    "        if more_items == \"no\":\n",
    "            break\n",
    "        else:\n",
    "            continue\n",
    "        \n",
    "    \n",
    "    return current_order_object\n",
    "\n",
    "def show_order(final_order):\n",
    "    print(f'Order ID: {final_order.id}')\n",
    "    for item in final_order.cart:\n",
    "        print(item)\n",
    "        \n",
    "    print(f'Status - {final_order.status}')\n",
    "    print(f'Delivery Charge - {final_order.delivery_cost}')\n",
    "    print(f'Total Cost - {final_order.total_cost}')\n",
    "    return 0 \n"
   ]
  },
  {
   "cell_type": "code",
   "execution_count": 77,
   "metadata": {},
   "outputs": [
    {
     "name": "stdout",
     "output_type": "stream",
     "text": [
      "1 - Udupi - Richmond Circle\n",
      "2 - Healthy Menu - Kormangla\n",
      "3 - Shiv Sagar - JP Nagar\n",
      "Select Your Restaurant: 3\n",
      "Selected Restaurant is Shiv Sagar - JP Nagar\n",
      "1 - Mango Milkshake - 70\n",
      "2 - Chocolate Milkshake - 100\n",
      "3 - Ice Cream - 50\n",
      "4 - Lime Juice - 40\n",
      "Select your dish: 1\n",
      "Enter Quantity: 2\n",
      "Do you want to order more? (yes/no): yes\n",
      "Select your dish: 3\n",
      "Enter Quantity: 4\n",
      "Do you want to order more? (yes/no): no\n",
      "Order ID: 5f0b4d11-2ae3-4143-aa66-fd9352d1f083\n",
      "Mango Milkshake x 2 = 140\n",
      "Ice Cream x 4 = 200\n",
      "Status - In Process\n",
      "Delivery Charge - 20\n",
      "Total Cost - 360\n"
     ]
    },
    {
     "data": {
      "text/plain": [
       "0"
      ]
     },
     "execution_count": 77,
     "metadata": {},
     "output_type": "execute_result"
    }
   ],
   "source": [
    "\n",
    "our_rest = select_rest(rest_objects)    \n",
    "final_order = take_order(our_rest)\n",
    "our_rest.add_order(final_order)\n",
    "show_order(final_order)"
   ]
  },
  {
   "cell_type": "code",
   "execution_count": 84,
   "metadata": {},
   "outputs": [
    {
     "name": "stdout",
     "output_type": "stream",
     "text": [
      "Number of orders - 2\n",
      "In Process\n"
     ]
    }
   ],
   "source": [
    "print(f'Number of orders - {len(our_rest.orders)}')\n",
    "\n",
    "print(our_rest.orders[1].status)"
   ]
  },
  {
   "cell_type": "code",
   "execution_count": 83,
   "metadata": {},
   "outputs": [],
   "source": [
    "our_rest.orders[0].status = \"On the way\"\n"
   ]
  },
  {
   "cell_type": "code",
   "execution_count": null,
   "metadata": {},
   "outputs": [],
   "source": []
  }
 ],
 "metadata": {
  "kernelspec": {
   "display_name": "Python 3",
   "language": "python",
   "name": "python3"
  },
  "language_info": {
   "codemirror_mode": {
    "name": "ipython",
    "version": 3
   },
   "file_extension": ".py",
   "mimetype": "text/x-python",
   "name": "python",
   "nbconvert_exporter": "python",
   "pygments_lexer": "ipython3",
   "version": "3.6.8"
  }
 },
 "nbformat": 4,
 "nbformat_minor": 2
}
