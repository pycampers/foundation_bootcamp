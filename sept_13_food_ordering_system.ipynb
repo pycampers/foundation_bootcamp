{
 "cells": [
  {
   "cell_type": "code",
   "execution_count": 88,
   "metadata": {},
   "outputs": [],
   "source": [
    "import uuid \n",
    "\n",
    "\n",
    "class Item:\n",
    "    def __init__(self, name, price):\n",
    "        self.name = name\n",
    "        self.price = price\n",
    "        \n",
    "    def __str__(self):\n",
    "        return self.name\n",
    "\n",
    "\n",
    "class OrderItem:\n",
    "    def __init__(self, item, quantity):\n",
    "        self.item = item\n",
    "        self.quantity = quantity\n",
    "        self.item_total = self.item.price * self.quantity\n",
    "        \n",
    "    def __str__(self):\n",
    "        return f\"{self.item} x {self.quantity} = {self.item_total}\"\n",
    "    \n",
    "\n",
    "class Order:\n",
    "    def __init__(self):\n",
    "        self.id = uuid.uuid4()\n",
    "        self.status = \"In Process\"\n",
    "        self.cart = []\n",
    "        self.item_total = 0\n",
    "        self.delivery_cost = 20\n",
    "        self.total_cost = 0 + self.delivery_cost\n",
    "        \n",
    "        \n",
    "    def add_item(self, food_item):\n",
    "        self.item_total += food_item.item_total\n",
    "        self.total_cost += food_item.item_total\n",
    "        self.cart.append(food_item)\n",
    "        \n",
    "    def __str__(self):\n",
    "        return f\"id: {self.id}\"\n",
    "        \n",
    "\n",
    "\n",
    "class Restaurant:\n",
    "    def __init__(self, name, address, phone_no):\n",
    "        self.name = name\n",
    "        self.address = address\n",
    "        self.phone_no = phone_no\n",
    "        self.menu = []\n",
    "        \n",
    "    def __str__(self):\n",
    "        return f\"{self.name} - {self.address}\"\n",
    "        \n",
    "    def add_item(self, item):\n",
    "        self.menu.append(item)\n"
   ]
  },
  {
   "cell_type": "code",
   "execution_count": 89,
   "metadata": {},
   "outputs": [
    {
     "name": "stdout",
     "output_type": "stream",
     "text": [
      "Udupi Veg Food - Richmond Circle\n"
     ]
    }
   ],
   "source": [
    "udupi = Restaurant(\"Udupi Veg Food\", \"Richmond Circle\", \"1234567890\")\n",
    "print(udupi)"
   ]
  },
  {
   "cell_type": "code",
   "execution_count": 90,
   "metadata": {},
   "outputs": [],
   "source": [
    "masala_dosa = Item(\"Masala Dosa\", 50)\n",
    "udupi.add_item(masala_dosa)"
   ]
  },
  {
   "cell_type": "code",
   "execution_count": 91,
   "metadata": {},
   "outputs": [
    {
     "name": "stdout",
     "output_type": "stream",
     "text": [
      "Masala Dosa\n",
      "50\n"
     ]
    }
   ],
   "source": [
    "first_item = udupi.menu[0]\n",
    "\n",
    "print(first_item.name)\n",
    "print(first_item.price)"
   ]
  },
  {
   "cell_type": "code",
   "execution_count": 92,
   "metadata": {},
   "outputs": [
    {
     "name": "stdout",
     "output_type": "stream",
     "text": [
      "Masala Dosa\n"
     ]
    }
   ],
   "source": [
    "print(first_item)\n",
    "\n",
    "first_order_item = OrderItem(first_item, 2)"
   ]
  },
  {
   "cell_type": "code",
   "execution_count": 93,
   "metadata": {},
   "outputs": [
    {
     "name": "stdout",
     "output_type": "stream",
     "text": [
      "Masala Dosa x 2 = 100\n"
     ]
    }
   ],
   "source": [
    "print(first_order_item)"
   ]
  },
  {
   "cell_type": "code",
   "execution_count": 94,
   "metadata": {},
   "outputs": [
    {
     "name": "stdout",
     "output_type": "stream",
     "text": [
      "d645dc15-ad77-4430-aa28-9394451ed76d\n"
     ]
    }
   ],
   "source": [
    "import uuid \n",
    "\n",
    "\n",
    "my_id = uuid.uuid4()\n",
    "print(my_id)"
   ]
  },
  {
   "cell_type": "code",
   "execution_count": 95,
   "metadata": {},
   "outputs": [],
   "source": [
    "my_order = Order()"
   ]
  },
  {
   "cell_type": "code",
   "execution_count": 96,
   "metadata": {},
   "outputs": [
    {
     "name": "stdout",
     "output_type": "stream",
     "text": [
      "id: 0a72e077-5b30-425e-89d4-fd0976d600f3\n"
     ]
    }
   ],
   "source": [
    "print(my_order)"
   ]
  },
  {
   "cell_type": "code",
   "execution_count": 97,
   "metadata": {},
   "outputs": [],
   "source": [
    "my_order.add_item(first_order_item)"
   ]
  },
  {
   "cell_type": "code",
   "execution_count": 98,
   "metadata": {},
   "outputs": [
    {
     "name": "stdout",
     "output_type": "stream",
     "text": [
      "120\n"
     ]
    }
   ],
   "source": [
    "print(my_order.total_cost)"
   ]
  },
  {
   "cell_type": "code",
   "execution_count": null,
   "metadata": {},
   "outputs": [],
   "source": []
  }
 ],
 "metadata": {
  "kernelspec": {
   "display_name": "Python 3",
   "language": "python",
   "name": "python3"
  },
  "language_info": {
   "codemirror_mode": {
    "name": "ipython",
    "version": 3
   },
   "file_extension": ".py",
   "mimetype": "text/x-python",
   "name": "python",
   "nbconvert_exporter": "python",
   "pygments_lexer": "ipython3",
   "version": "3.6.8"
  }
 },
 "nbformat": 4,
 "nbformat_minor": 2
}
