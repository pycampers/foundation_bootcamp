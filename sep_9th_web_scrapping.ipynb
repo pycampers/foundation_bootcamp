{
 "cells": [
  {
   "cell_type": "code",
   "execution_count": null,
   "metadata": {},
   "outputs": [],
   "source": []
  },
  {
   "cell_type": "code",
   "execution_count": 115,
   "metadata": {},
   "outputs": [],
   "source": [
    "from requests_html import HTMLSession\n",
    "\n",
    "\n",
    "def product_html_to_dict(single_result):\n",
    "    product_image = single_result.find(\"img\", first=True).attrs[\"src\"]\n",
    "    product_name = single_result.find('.s-line-clamp-2', first=True).text\n",
    "\n",
    "    product_final_price_raw = single_result.find('.a-price-whole', first=True)    \n",
    "    if product_final_price_raw == None:\n",
    "        product_final_price = \"not found\"\n",
    "    else:\n",
    "        product_final_price = product_final_price_raw.text\n",
    "        \n",
    "\n",
    "    product_mrp_raw = single_result.find('.a-text-price', first=True)\n",
    "    if product_mrp_raw == None:\n",
    "        product_mrp = \"not found\"\n",
    "    else:\n",
    "        product_mrp = product_mrp_raw.find(\".a-offscreen\", first=True).text\n",
    "\n",
    "\n",
    "    product_info = {\"name\": product_name,\n",
    "                    \"mrp\": product_mrp,\n",
    "                    \"price\": product_final_price,\n",
    "                    \"image\": product_image}\n",
    "                    \n",
    "    return product_info\n",
    "\n",
    "\n",
    "def response_to_result_items(response):\n",
    "    search_results = response.html.find('.s-search-results', first=True)\n",
    "    result_items = search_results.find(\".s-result-item\")\n",
    "    return result_items\n",
    "\n",
    "\n",
    "def url_to_response(url):\n",
    "    session = HTMLSession()\n",
    "    response = session.get(url)\n",
    "    return response\n",
    "\n",
    "\n",
    "def get_no_of_pages(response):\n",
    "    pagination = response.html.find('.a-pagination', first=True)\n",
    "    page_no_raw = pagination.find(\".a-disabled\")\n",
    "\n",
    "    if len(page_no_raw) == 1:\n",
    "        page_no = int(pagination.find(\".a-normal\")[-1].text)\n",
    "    elif len(page_no_raw) == 2:\n",
    "        page_no = int(page_no_raw[1].text)\n",
    "    else:\n",
    "        page_no = 0\n",
    "\n",
    "    return page_no\n"
   ]
  },
  {
   "cell_type": "code",
   "execution_count": 119,
   "metadata": {},
   "outputs": [
    {
     "name": "stdout",
     "output_type": "stream",
     "text": [
      "20\n",
      "20\n",
      "20\n",
      "20\n",
      "20\n",
      "20\n",
      "20\n",
      "20\n",
      "20\n",
      "20\n",
      "20\n",
      "20\n",
      "20\n",
      "20\n",
      "20\n",
      "20\n",
      "20\n",
      "20\n",
      "20\n",
      "6\n"
     ]
    }
   ],
   "source": [
    "query = \"keyboard\"\n",
    "page_no = 1\n",
    "\n",
    "website_url_format = \"https://www.amazon.in/s?k={}&page={}\"\n",
    "\n",
    "website_url = website_url_format.format(query, page_no)\n",
    "response = url_to_response(website_url)\n",
    "\n",
    "no_of_pages = get_no_of_pages(response)\n",
    "\n",
    "all_results = []\n",
    "for page_no in range(1, no_of_pages + 1):\n",
    "    website_url = website_url_format.format(query, page_no)\n",
    "\n",
    "    response = url_to_response(website_url)\n",
    "    result_items = response_to_result_items(response)\n",
    "    product_info_dict = list(map(product_html_to_dict, result_items))\n",
    "\n",
    "    print(len(product_info_dict))\n",
    "    all_results.append(product_info_dict)"
   ]
  },
  {
   "cell_type": "markdown",
   "metadata": {},
   "source": [
    "Find rating of the product = 3.5/5\n",
    "Find no of reviews = 112\n",
    "If available for free deliver = True/False\n",
    "\n",
    "Go to the product page\n",
    "and get the reviews"
   ]
  },
  {
   "cell_type": "code",
   "execution_count": null,
   "metadata": {},
   "outputs": [],
   "source": []
  },
  {
   "cell_type": "code",
   "execution_count": null,
   "metadata": {},
   "outputs": [],
   "source": []
  }
 ],
 "metadata": {
  "kernelspec": {
   "display_name": "Python 3",
   "language": "python",
   "name": "python3"
  },
  "language_info": {
   "codemirror_mode": {
    "name": "ipython",
    "version": 3
   },
   "file_extension": ".py",
   "mimetype": "text/x-python",
   "name": "python",
   "nbconvert_exporter": "python",
   "pygments_lexer": "ipython3",
   "version": "3.6.8"
  }
 },
 "nbformat": 4,
 "nbformat_minor": 2
}
