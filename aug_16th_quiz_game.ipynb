{
 "cells": [
  {
   "cell_type": "code",
   "execution_count": 80,
   "metadata": {},
   "outputs": [
    {
     "name": "stdout",
     "output_type": "stream",
     "text": [
      "Enter your name: Lorenzo\n",
      "Hi Lorenzo, Welcome to our quiz game.\n",
      "\n",
      "    The rules are very simple.\n",
      "    You'll see a question and 4 options. Enter the correct\n",
      "    option, if you enter wrong option you get two chances.\n",
      "    After that you lose the game. If you answer correctly \n",
      "    You win the Game.\n",
      "    \n",
      "Press Enter to Start\n",
      "Q1: What is the capitol of India?\n",
      "A- Mumbai\n",
      "B- Bangalore\n",
      "C- Delhi\n",
      "D- Madras\n",
      "Enter the correct option: c\n",
      "Congrats! \n",
      "\n",
      "Q2: Who is the first prime minister of India?\n",
      "A- Morarji Desai\n",
      "B- Mahatma Gandhi\n",
      "C- Jawaharlal Nehru\n",
      "D- Sardar Patel\n",
      "Enter the correct option: d\n",
      "Your answer is incorrect. \n",
      "\n",
      "Q3: Who invented the telephone?\n",
      "A- Graham Bell\n",
      "B- Nikola Tesla\n",
      "C- Albert Einstin\n",
      "D- Sam Pitroda\n",
      "Enter the correct option: a\n",
      "Congrats! \n",
      "\n",
      "Congratulation Lorenzo you won the game.\n",
      "Your score is 2.\n",
      "You took 22.18442678451538 seconds.\n",
      "name \t\t|score \t\t|time \t\t|\n",
      "--------------------------------------------------\n",
      "Hasan \t\t| 2 \t\t| 20.962351083755493\n",
      "Vipin \t\t| 0 \t\t| 6.96836519241333\n",
      "Lorenzo \t\t| 2 \t\t| 22.18442678451538\n"
     ]
    },
    {
     "data": {
      "text/plain": [
       "0"
      ]
     },
     "execution_count": 80,
     "metadata": {},
     "output_type": "execute_result"
    }
   ],
   "source": [
    "import time\n",
    "import json\n",
    "import os\n",
    "\n",
    "scoreboard_filename = \"scoreboard.json\"\n",
    "score = {\"incorrect\":0,\n",
    "         \"points\":0}\n",
    "\n",
    "result = \"WIN\"\n",
    "\n",
    "question_database = {\n",
    "      1 : {\"question\":\"What is the capitol of India?\",\n",
    "           \"a\": \"Mumbai\",\n",
    "           \"b\": \"Bangalore\",\n",
    "           \"c\": \"Delhi\",\n",
    "           \"d\": \"Madras\",\n",
    "           \"correct\": \"c\"},\n",
    "      2 : {\"question\":\"Who is the first prime minister of India?\",\n",
    "           \"a\": \"Morarji Desai\",\n",
    "           \"b\": \"Mahatma Gandhi\",\n",
    "           \"c\": \"Jawaharlal Nehru\",\n",
    "           \"d\": \"Sardar Patel\",\n",
    "           \"correct\": \"c\"},\n",
    "      3 : {\"question\":\"Who invented the telephone?\",\n",
    "           \"a\": \"Graham Bell\",\n",
    "           \"b\": \"Nikola Tesla\",\n",
    "           \"c\": \"Albert Einstin\",\n",
    "           \"d\": \"Sam Pitroda\",\n",
    "           \"correct\": \"a\"}}\n",
    "\n",
    "\n",
    "def check_for_scoreboard_file(scoreboard_filename):\n",
    "    \"\"\"\n",
    "    This function check if the scoreboard file exists already.\n",
    "    If the file exists it reads the json data from file,convert\n",
    "    it to a dict and return that. Otherwise it creates a file and\n",
    "    puts an empty dict in the file.\n",
    "    \"\"\"\n",
    "    if os.path.exists(scoreboard_filename):\n",
    "        with open(scoreboard_filename, \"r\") as scoreboard_file:\n",
    "            scoreboard_data_json = scoreboard_file.read()\n",
    "            scoreboard_data = json.loads(scoreboard_data_json)\n",
    "\n",
    "    else:\n",
    "        with open(scoreboard_filename, \"w\") as scoreboard_file:\n",
    "            scoreboard_data = {}\n",
    "            empty_dict_json = json.dumps(scoreboard_data)\n",
    "            scoreboard_file.write(empty_dict_json)\n",
    "\n",
    "    return scoreboard_data\n",
    "\n",
    "    \n",
    "def update_scoreboard_file(scoreboard_data):\n",
    "    scoreboard_data_json = json.dumps(scoreboard_data)\n",
    "    with open(scoreboard_filename, \"w\") as scoreboard_file:\n",
    "        scoreboard_file.write(scoreboard_data_json)\n",
    "\n",
    "\n",
    "def welcome_user():\n",
    "    username = input(\"Enter your name: \")\n",
    "    print(f\"Hi {username}, Welcome to our quiz game.\")\n",
    "    print(\"\"\"\n",
    "    The rules are very simple.\n",
    "    You'll see a question and 4 options. Enter the correct\n",
    "    option, if you enter wrong option you get two chances.\n",
    "    After that you lose the game. If you answer correctly \n",
    "    You win the Game.\n",
    "    \"\"\")\n",
    "    _ = input(\"Press Enter to Start\")\n",
    "    return username\n",
    "    \n",
    "    \n",
    "def ask_question(question, question_no):\n",
    "    print(f\"Q{question_no}: {question['question']}\")\n",
    "\n",
    "    print(\"A-\",question[\"a\"])\n",
    "    print(\"B-\",question[\"b\"])\n",
    "    print(\"C-\",question[\"c\"])\n",
    "    print(\"D-\",question[\"d\"])\n",
    "      \n",
    "    answer = input(\"Enter the correct option: \")\n",
    "\n",
    "    answer = answer.lower()\n",
    "    return answer\n",
    "\n",
    "          \n",
    "def check_answer(question, answer):\n",
    "    if answer == question[\"correct\"]:\n",
    "        print(\"Congrats! \\n\")\n",
    "        score[\"points\"] += 1\n",
    "    else:\n",
    "        print(\"Your answer is incorrect. \\n\")\n",
    "        score[\"incorrect\"] += 1\n",
    "          \n",
    "def end_game(result, username):\n",
    "    if result == \"WIN\":\n",
    "          print(f\"Congratulation {username} you won the game.\")\n",
    "    elif result == \"LOSE\":\n",
    "          print(f\"Game Over {username}!\")\n",
    "\n",
    "    print(f\"Your score is {score['points']}.\")\n",
    "    total_time = time.time() - start_time\n",
    "    print(f\"You took {total_time} seconds.\")\n",
    "          \n",
    "    scoreboard_data[username] = {\"name\":username,\n",
    "                                \"score\":score['points'],\n",
    "                                \"time\":total_time}\n",
    "          \n",
    "    update_scoreboard_file(scoreboard_data)\n",
    "    show_scoreboard(scoreboard_data)\n",
    "    \n",
    "    return 0\n",
    "          \n",
    "def show_scoreboard(scoreboard_data):\n",
    "    first_value_from_dict = list(scoreboard_data.values())[0]\n",
    "    keys_from_dict = list(first_value_from_dict.keys())\n",
    "\n",
    "    for key in keys_from_dict:\n",
    "        print(f\"{key} \\t\\t|\", end=\"\")\n",
    "\n",
    "\n",
    "    print(\"\")\n",
    "    print(\"--\"*25)\n",
    "\n",
    "    for user_data in scoreboard_data.values():\n",
    "        print(f'{user_data[\"name\"]} \\t\\t| {user_data[\"score\"]} \\t\\t| {user_data[\"time\"]}')\n",
    "    \n",
    "    return 0\n",
    "\n",
    "          \n",
    "\n",
    "\n",
    "username = welcome_user()\n",
    "scoreboard_data = check_for_scoreboard_file(scoreboard_filename)\n",
    "\n",
    "start_time = time.time()\n",
    "\n",
    "for question_no, question in question_database.items():\n",
    "\n",
    "    answer = ask_question(question, question_no)\n",
    "    check_answer(question, answer)\n",
    "          \n",
    "    if score[\"incorrect\"] == 2:\n",
    "          result = \"LOSE\"\n",
    "          break\n",
    "    else:\n",
    "          pass\n",
    "          \n",
    "end_game(result, username)"
   ]
  },
  {
   "cell_type": "code",
   "execution_count": 26,
   "metadata": {},
   "outputs": [
    {
     "name": "stdout",
     "output_type": "stream",
     "text": [
      "Press enter whenever you want to.\n",
      "You took \n",
      "3.984429359436035\n"
     ]
    }
   ],
   "source": [
    "import time\n",
    "\n",
    "start_time = time.time()\n",
    "\n",
    "_ = input(\"Press enter whenever you want to.\")\n",
    "\n",
    "end_time = time.time()\n",
    "\n",
    "print(\"You took \")\n",
    "print(end_time - start_time)"
   ]
  },
  {
   "cell_type": "code",
   "execution_count": 41,
   "metadata": {},
   "outputs": [
    {
     "name": "stdout",
     "output_type": "stream",
     "text": [
      "{}\n",
      "This is the data from json file\n"
     ]
    }
   ],
   "source": [
    "import json\n",
    "import os\n",
    "\n",
    "scoreboard_filename = \"scoreboard.json\"\n",
    "\n",
    "if os.path.exists(scoreboard_filename):\n",
    "    scoreboard_file = open(scoreboard_filename, \"r\")\n",
    "    scoreboard_data_json = scoreboard_file.read()\n",
    "    scoreboard_data = json.loads(scoreboard_data_json)\n",
    "    \n",
    "    print(scoreboard_data)\n",
    "    print(\"This is the data from json file\")\n",
    "else:\n",
    "    scoreboard_file = open(scoreboard_filename, \"w\")\n",
    "    empty_dict_json = json.dumps({})\n",
    "    scoreboard_file.write(empty_dict_json)\n",
    "    scoreboard_file.close()\n",
    "    print(\"just created the scoreboard file\")\n",
    "    "
   ]
  },
  {
   "cell_type": "code",
   "execution_count": 44,
   "metadata": {},
   "outputs": [
    {
     "name": "stdout",
     "output_type": "stream",
     "text": [
      "{}\n",
      "This is the data from json file\n"
     ]
    }
   ],
   "source": [
    "import json\n",
    "import os\n",
    "\n",
    "scoreboard_filename = \"scoreboard.json\"\n",
    "\n",
    "def check_for_scoreboard_file(scoreboard_filename):\n",
    "    if os.path.exists(scoreboard_filename):\n",
    "        with open(scoreboard_filename, \"r\") as scoreboard_file:\n",
    "            scoreboard_data_json = scoreboard_file.read()\n",
    "            scoreboard_data = json.loads(scoreboard_data_json)\n",
    "\n",
    "    else:\n",
    "        with open(scoreboard_filename, \"w\") as scoreboard_file:\n",
    "            scoreboard_data = {}\n",
    "            empty_dict_json = json.dumps(scoreboard_data)\n",
    "            scoreboard_file.write(empty_dict_json)\n",
    "\n",
    "    return scoreboard_data\n",
    "        \n",
    "    \n",
    "def update_scoreboard_file(scoreboard_data):\n",
    "    scoreboard_data_json = json.dumps(scoreboard_data)\n",
    "    with open(scoreboard_filename, \"w\") as scoreboard_file:\n",
    "        scoreboard_file.write(scoreboard_data_json)\n",
    "        \n"
   ]
  },
  {
   "cell_type": "code",
   "execution_count": 55,
   "metadata": {},
   "outputs": [
    {
     "name": "stdout",
     "output_type": "stream",
     "text": [
      "{'b': 2, 'a': 1}\n"
     ]
    }
   ],
   "source": [
    "dict1 = {\"a\":1}\n",
    "dict2 = {\"b\":2}\n",
    "\n",
    "dict2.update(dict1)\n",
    "\n",
    "print(dict2)"
   ]
  },
  {
   "cell_type": "code",
   "execution_count": 79,
   "metadata": {},
   "outputs": [
    {
     "name": "stdout",
     "output_type": "stream",
     "text": [
      "name \t\t|score \t\t|time \t\t|\n",
      "--------------------------------------------------\n",
      "Hasan \t\t| 2 \t\t| 20.962351083755493\n",
      "Vipin \t\t| 0 \t\t| 6.96836519241333\n"
     ]
    }
   ],
   "source": [
    "def show_scoreboard(scoreboard_data):\n",
    "    first_value_from_dict = list(scoreboard_data.values())[0]\n",
    "    keys_from_dict = list(first_value_from_dict.keys())\n",
    "\n",
    "    for key in keys_from_dict:\n",
    "        print(f\"{key} \\t\\t|\", end=\"\")\n",
    "\n",
    "\n",
    "    print(\"\")\n",
    "    print(\"--\"*25)\n",
    "\n",
    "    for user_data in scoreboard_data.values():\n",
    "        print(f'{user_data[\"name\"]} \\t\\t| {user_data[\"score\"]} \\t\\t| {user_data[\"time\"]}')\n",
    "    \n",
    "    return 0"
   ]
  },
  {
   "cell_type": "code",
   "execution_count": 71,
   "metadata": {},
   "outputs": [
    {
     "name": "stdout",
     "output_type": "stream",
     "text": [
      "{'Hasan': {'name': 'Hasan', 'score': 2, 'time': 20.962351083755493}, 'Vipin': {'name': 'Vipin', 'score': 0, 'time': 6.96836519241333}} \n",
      "\n",
      "['name', 'score', 'time']\n"
     ]
    }
   ],
   "source": [
    "print(scoreboard_data, \"\\n\")\n",
    "\n",
    "first_value_from_dict = list(scoreboard_data.values())[0]\n",
    "keys_from_dict = list(first_value_from_dict.keys())\n",
    "\n",
    "print(keys_from_dict)\n"
   ]
  },
  {
   "cell_type": "code",
   "execution_count": null,
   "metadata": {},
   "outputs": [],
   "source": []
  }
 ],
 "metadata": {
  "kernelspec": {
   "display_name": "Python 3",
   "language": "python",
   "name": "python3"
  },
  "language_info": {
   "codemirror_mode": {
    "name": "ipython",
    "version": 3
   },
   "file_extension": ".py",
   "mimetype": "text/x-python",
   "name": "python",
   "nbconvert_exporter": "python",
   "pygments_lexer": "ipython3",
   "version": "3.6.8"
  }
 },
 "nbformat": 4,
 "nbformat_minor": 2
}
